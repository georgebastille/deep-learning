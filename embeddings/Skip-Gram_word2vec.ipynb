{
 "cells": [
  {
   "cell_type": "markdown",
   "metadata": {
    "deletable": true,
    "editable": true
   },
   "source": [
    "# Skip-gram word2vec\n",
    "\n",
    "In this notebook, I'll lead you through using TensorFlow to implement the word2vec algorithm using the skip-gram architecture. By implementing this, you'll learn about embedding words for use in natural language processing. This will come in handy when dealing with things like translations.\n",
    "\n",
    "## Readings\n",
    "\n",
    "Here are the resources I used to build this notebook. I suggest reading these either beforehand or while you're working on this material.\n",
    "\n",
    "* A really good [conceptual overview](http://mccormickml.com/2016/04/19/word2vec-tutorial-the-skip-gram-model/) of word2vec from Chris McCormick \n",
    "* [First word2vec paper](https://arxiv.org/pdf/1301.3781.pdf) from Mikolov et al.\n",
    "* [NIPS paper](http://papers.nips.cc/paper/5021-distributed-representations-of-words-and-phrases-and-their-compositionality.pdf) with improvements for word2vec also from Mikolov et al.\n",
    "* An [implementation of word2vec](http://www.thushv.com/natural_language_processing/word2vec-part-1-nlp-with-deep-learning-with-tensorflow-skip-gram/) from Thushan Ganegedara\n",
    "* TensorFlow [word2vec tutorial](https://www.tensorflow.org/tutorials/word2vec)\n",
    "\n",
    "## Word embeddings\n",
    "\n",
    "When you're dealing with language and words, you end up with tens of thousands of classes to predict, one for each word. Trying to one-hot encode these words is massively inefficient, you'll have one element set to 1 and the other 50,000 set to 0. The word2vec algorithm finds much more efficient representations by finding vectors that represent the words. These vectors also contain semantic information about the words. Words that show up in similar contexts, such as \"black\", \"white\", and \"red\" will have vectors near each other. There are two architectures for implementing word2vec, CBOW (Continuous Bag-Of-Words) and Skip-gram.\n",
    "\n",
    "<img src=\"assets/word2vec_architectures.png\" width=\"500\">\n",
    "\n",
    "In this implementation, we'll be using the skip-gram architecture because it performs better than CBOW. Here, we pass in a word and try to predict the words surrounding it in the text. In this way, we can train the network to learn representations for words that show up in similar contexts.\n",
    "\n",
    "First up, importing packages."
   ]
  },
  {
   "cell_type": "code",
   "execution_count": 2,
   "metadata": {
    "collapsed": false,
    "deletable": true,
    "editable": true
   },
   "outputs": [],
   "source": [
    "import time\n",
    "\n",
    "import numpy as np\n",
    "import tensorflow as tf\n",
    "\n",
    "import utils"
   ]
  },
  {
   "cell_type": "markdown",
   "metadata": {},
   "source": [
    "Load the [text8 dataset](http://mattmahoney.net/dc/textdata.html), a file of cleaned up Wikipedia articles from Matt Mahoney. The next cell will download the data set to the `data` folder. Then you can extract it and delete the archive file to save storage space."
   ]
  },
  {
   "cell_type": "code",
   "execution_count": 3,
   "metadata": {
    "collapsed": false
   },
   "outputs": [],
   "source": [
    "from urllib.request import urlretrieve\n",
    "from os.path import isfile, isdir\n",
    "from tqdm import tqdm\n",
    "import zipfile\n",
    "\n",
    "dataset_folder_path = 'data'\n",
    "dataset_filename = 'text8.zip'\n",
    "dataset_name = 'Text8 Dataset'\n",
    "\n",
    "class DLProgress(tqdm):\n",
    "    last_block = 0\n",
    "\n",
    "    def hook(self, block_num=1, block_size=1, total_size=None):\n",
    "        self.total = total_size\n",
    "        self.update((block_num - self.last_block) * block_size)\n",
    "        self.last_block = block_num\n",
    "\n",
    "if not isfile(dataset_filename):\n",
    "    with DLProgress(unit='B', unit_scale=True, miniters=1, desc=dataset_name) as pbar:\n",
    "        urlretrieve(\n",
    "            'http://mattmahoney.net/dc/text8.zip',\n",
    "            dataset_filename,\n",
    "            pbar.hook)\n",
    "\n",
    "if not isdir(dataset_folder_path):\n",
    "    with zipfile.ZipFile(dataset_filename) as zip_ref:\n",
    "        zip_ref.extractall(dataset_folder_path)\n",
    "        \n",
    "with open('data/text8') as f:\n",
    "    text = f.read()"
   ]
  },
  {
   "cell_type": "markdown",
   "metadata": {},
   "source": [
    "## Preprocessing\n",
    "\n",
    "Here I'm fixing up the text to make training easier. This comes from the `utils` module I wrote. The `preprocess` function coverts any punctuation into tokens, so a period is changed to ` <PERIOD> `. In this data set, there aren't any periods, but it will help in other NLP problems. I'm also removing all words that show up five or fewer times in the dataset. This will greatly reduce issues due to noise in the data and improve the quality of the vector representations. If you want to write your own functions for this stuff, go for it."
   ]
  },
  {
   "cell_type": "code",
   "execution_count": 4,
   "metadata": {
    "collapsed": false,
    "deletable": true,
    "editable": true
   },
   "outputs": [
    {
     "name": "stdout",
     "output_type": "stream",
     "text": [
      "['anarchism', 'originated', 'as', 'a', 'term', 'of', 'abuse', 'first', 'used', 'against', 'early', 'working', 'class', 'radicals', 'including', 'the', 'diggers', 'of', 'the', 'english', 'revolution', 'and', 'the', 'sans', 'culottes', 'of', 'the', 'french', 'revolution', 'whilst']\n"
     ]
    }
   ],
   "source": [
    "words = utils.preprocess(text)\n",
    "print(words[:30])"
   ]
  },
  {
   "cell_type": "code",
   "execution_count": 5,
   "metadata": {
    "collapsed": false
   },
   "outputs": [
    {
     "name": "stdout",
     "output_type": "stream",
     "text": [
      "Total words: 16680599\n",
      "Unique words: 63641\n"
     ]
    }
   ],
   "source": [
    "print(\"Total words: {}\".format(len(words)))\n",
    "print(\"Unique words: {}\".format(len(set(words))))"
   ]
  },
  {
   "cell_type": "markdown",
   "metadata": {},
   "source": [
    "And here I'm creating dictionaries to covert words to integers and backwards, integers to words. The integers are assigned in descending frequency order, so the most frequent word (\"the\") is given the integer 0 and the next most frequent is 1 and so on. The words are converted to integers and stored in the list `int_words`."
   ]
  },
  {
   "cell_type": "code",
   "execution_count": 6,
   "metadata": {
    "collapsed": false,
    "deletable": true,
    "editable": true
   },
   "outputs": [],
   "source": [
    "vocab_to_int, int_to_vocab = utils.create_lookup_tables(words)\n",
    "int_words = [vocab_to_int[word] for word in words]"
   ]
  },
  {
   "cell_type": "markdown",
   "metadata": {},
   "source": [
    "## Subsampling\n",
    "\n",
    "Words that show up often such as \"the\", \"of\", and \"for\" don't provide much context to the nearby words. If we discard some of them, we can remove some of the noise from our data and in return get faster training and better representations. This process is called subsampling by Mikolov. For each word $w_i$ in the training set, we'll discard it with probability given by \n",
    "\n",
    "$$ P(w_i) = 1 - \\sqrt{\\frac{t}{f(w_i)}} $$\n",
    "\n",
    "where $t$ is a threshold parameter and $f(w_i)$ is the frequency of word $w_i$ in the total dataset.\n",
    "\n",
    "I'm going to leave this up to you as an exercise. This is more of a programming challenge, than about deep learning specifically. But, being able to prepare your data for your network is an important skill to have. Check out my solution to see how I did it.\n",
    "\n",
    "> **Exercise:** Implement subsampling for the words in `int_words`. That is, go through `int_words` and discard each word given the probablility $P(w_i)$ shown above. Note that $P(w_i)$ is the probability that a word is discarded. Assign the subsampled data to `train_words`."
   ]
  },
  {
   "cell_type": "code",
   "execution_count": 7,
   "metadata": {
    "collapsed": false
   },
   "outputs": [
    {
     "name": "stdout",
     "output_type": "stream",
     "text": [
      "16680599 4628701\n"
     ]
    }
   ],
   "source": [
    "## Your code here\n",
    "from collections import Counter\n",
    "from math import sqrt\n",
    "from random import random\n",
    "def subsample(int_words, t):\n",
    "    t *= len(int_words)\n",
    "    word_freq = Counter(int_words)\n",
    "    drop_prob = {key: 1.0 - sqrt(t / val) for key, val in word_freq.items()}\n",
    "    keep_words = [x for x in int_words if drop_prob[x] <= random()]\n",
    "    return keep_words\n",
    "train_words = subsample(int_words, 1e-5)\n",
    "print(len(int_words), len(train_words))"
   ]
  },
  {
   "cell_type": "markdown",
   "metadata": {},
   "source": [
    "## Making batches"
   ]
  },
  {
   "cell_type": "markdown",
   "metadata": {
    "deletable": true,
    "editable": true
   },
   "source": [
    "Now that our data is in good shape, we need to get it into the proper form to pass it into our network. With the skip-gram architecture, for each word in the text, we want to grab all the words in a window around that word, with size $C$. \n",
    "\n",
    "From [Mikolov et al.](https://arxiv.org/pdf/1301.3781.pdf): \n",
    "\n",
    "\"Since the more distant words are usually less related to the current word than those close to it, we give less weight to the distant words by sampling less from those words in our training examples... If we choose $C = 5$, for each training word we will select randomly a number $R$ in range $< 1; C >$, and then use $R$ words from history and $R$ words from the future of the current word as correct labels.\"\n",
    "\n",
    "> **Exercise:** Implement a function `get_target` that receives a list of words, an index, and a window size, then returns a list of words in the window around the index. Make sure to use the algorithm described above, where you choose a random number of words from the window."
   ]
  },
  {
   "cell_type": "code",
   "execution_count": 8,
   "metadata": {
    "collapsed": false,
    "deletable": true,
    "editable": true
   },
   "outputs": [
    {
     "name": "stdout",
     "output_type": "stream",
     "text": [
      "[1, 3134, 45, 58, 155, 127, 741, 476, 10571, 133, 0]\n",
      "[0, 1, 741, 133, 10571, 45, 58, 155, 476, 3134]\n"
     ]
    }
   ],
   "source": [
    "from random import randint\n",
    "def get_target(words, idx, window_size=5):\n",
    "    ''' Get a list of words in a window around an index. '''\n",
    "    context_size = randint(1, window_size)\n",
    "    before_idx = idx - context_size\n",
    "    before_idx = before_idx if before_idx > 0 else 0\n",
    "    after_idx = idx + context_size + 1\n",
    "    before = words[before_idx:idx]\n",
    "    after = words[idx + 1:after_idx]\n",
    "    return list(set(before + after))\n",
    "\n",
    "print(int_words[5:16])\n",
    "print(get_target(int_words, 10))"
   ]
  },
  {
   "cell_type": "markdown",
   "metadata": {},
   "source": [
    "Here's a function that returns batches for our network. The idea is that it grabs `batch_size` words from a words list. Then for each of those words, it gets the target words in the window. I haven't found a way to pass in a random number of target words and get it to work with the architecture, so I make one row per input-target pair. This is a generator function by the way, helps save memory."
   ]
  },
  {
   "cell_type": "code",
   "execution_count": 9,
   "metadata": {
    "collapsed": false,
    "deletable": true,
    "editable": true
   },
   "outputs": [],
   "source": [
    "def get_batches(words, batch_size, window_size=5):\n",
    "    ''' Create a generator of word batches as a tuple (inputs, targets) '''\n",
    "    \n",
    "    n_batches = len(words)//batch_size\n",
    "    \n",
    "    # only full batches\n",
    "    words = words[:n_batches*batch_size]\n",
    "    \n",
    "    for idx in range(0, len(words), batch_size):\n",
    "        x, y = [], []\n",
    "        batch = words[idx:idx+batch_size]\n",
    "        for ii in range(len(batch)):\n",
    "            batch_x = batch[ii]\n",
    "            batch_y = get_target(batch, ii, window_size)\n",
    "            y.extend(batch_y)\n",
    "            x.extend([batch_x]*len(batch_y))\n",
    "            # print(\"batch_x: {}\\nbatch_y: {}\\nx: {}\\ny: {}\\n\".format(batch_x, batch_y, x, y))\n",
    "        yield x, y\n",
    "#print(next(get_batches(int_words, 5)))\n",
    "    "
   ]
  },
  {
   "cell_type": "markdown",
   "metadata": {
    "collapsed": false
   },
   "source": [
    "## Building the graph\n",
    "\n",
    "From Chris McCormick's blog, we can see the general structure of our network.\n",
    "![embedding_network](./assets/skip_gram_net_arch.png)\n",
    "\n",
    "The input words are passed in as one-hot encoded vectors. This will go into a hidden layer of linear units, then into a softmax layer. We'll use the softmax layer to make a prediction like normal.\n",
    "\n",
    "The idea here is to train the hidden layer weight matrix to find efficient representations for our words. This weight matrix is usually called the embedding matrix or embedding look-up table. We can discard the softmax layer becuase we don't really care about making predictions with this network. We just want the embedding matrix so we can use it in other networks we build from the dataset.\n",
    "\n",
    "I'm going to have you build the graph in stages now. First off, creating the `inputs` and `labels` placeholders like normal.\n",
    "\n",
    "> **Exercise:** Assign `inputs` and `labels` using `tf.placeholder`. We're going to be passing in integers, so set the data types to `tf.int32`. The batches we're passing in will have varying sizes, so set the batch sizes to [`None`]. To make things work later, you'll need to set the second dimension of `labels` to `None` or `1`."
   ]
  },
  {
   "cell_type": "code",
   "execution_count": 10,
   "metadata": {
    "collapsed": false
   },
   "outputs": [],
   "source": [
    "train_graph = tf.Graph()\n",
    "with train_graph.as_default():\n",
    "    inputs = tf.placeholder(tf.int32, shape=[None], name='inputs')\n",
    "    labels = tf.placeholder(tf.int32, shape=[None, None], name='labels')"
   ]
  },
  {
   "cell_type": "markdown",
   "metadata": {},
   "source": [
    "## Embedding\n",
    "\n"
   ]
  },
  {
   "cell_type": "markdown",
   "metadata": {
    "collapsed": true
   },
   "source": [
    "The embedding matrix has a size of the number of words by the number of neurons in the hidden layer. So, if you have 10,000 words and 300 hidden units, the matrix will have size $10,000 \\times 300$. Remember that we're using one-hot encoded vectors for our inputs. When you do the matrix multiplication of the one-hot vector with the embedding matrix, you end up selecting only one row out of the entire matrix:\n",
    "\n",
    "![one-hot matrix multiplication](assets/matrix_mult_w_one_hot.png)\n",
    "\n",
    "You don't actually need to do the matrix multiplication, you just need to select the row in the embedding matrix that corresponds to the input word. Then, the embedding matrix becomes a lookup table, you're looking up a vector the size of the hidden layer that represents the input word.\n",
    "\n",
    "<img src=\"assets/word2vec_weight_matrix_lookup_table.png\" width=500>\n",
    "\n",
    "\n",
    "> **Exercise:** Tensorflow provides a convenient function [`tf.nn.embedding_lookup`](https://www.tensorflow.org/api_docs/python/tf/nn/embedding_lookup) that does this lookup for us. You pass in the embedding matrix and a tensor of integers, then it returns rows in the matrix corresponding to those integers. Below, set the number of embedding features you'll use (200 is a good start), create the embedding matrix variable, and use [`tf.nn.embedding_lookup`](https://www.tensorflow.org/api_docs/python/tf/nn/embedding_lookup) to get the embedding tensors. For the embedding matrix, I suggest you initialize it with a uniform random numbers between -1 and 1 using [tf.random_uniform](https://www.tensorflow.org/api_docs/python/tf/random_uniform). This [TensorFlow tutorial](https://www.tensorflow.org/tutorials/word2vec) will help if you get stuck."
   ]
  },
  {
   "cell_type": "code",
   "execution_count": 11,
   "metadata": {
    "collapsed": true
   },
   "outputs": [],
   "source": [
    "n_vocab = len(int_to_vocab)\n",
    "n_embedding =  200 \n",
    "with train_graph.as_default():\n",
    "    embedding = tf.Variable(tf.random_uniform([n_vocab, n_embedding], -1, 1))\n",
    "    embed = tf.nn.embedding_lookup(embedding, inputs)"
   ]
  },
  {
   "cell_type": "markdown",
   "metadata": {},
   "source": [
    "## Negative sampling\n",
    "\n"
   ]
  },
  {
   "cell_type": "markdown",
   "metadata": {},
   "source": [
    "For every example we give the network, we train it using the output from the softmax layer. That means for each input, we're making very small changes to millions of weights even though we only have one true example. This makes training the network very inefficient. We can approximate the loss from the softmax layer by only updating a small subset of all the weights at once. We'll update the weights for the correct label, but only a small number of incorrect labels. This is called [\"negative sampling\"](http://papers.nips.cc/paper/5021-distributed-representations-of-words-and-phrases-and-their-compositionality.pdf). Tensorflow has a convenient function to do this, [`tf.nn.sampled_softmax_loss`](https://www.tensorflow.org/api_docs/python/tf/nn/sampled_softmax_loss).\n",
    "\n",
    "> **Exercise:** Below, create weights and biases for the softmax layer. Then, use [`tf.nn.sampled_softmax_loss`](https://www.tensorflow.org/api_docs/python/tf/nn/sampled_softmax_loss) to calculate the loss. Be sure to read the documentation to figure out how it works."
   ]
  },
  {
   "cell_type": "code",
   "execution_count": 12,
   "metadata": {
    "collapsed": false,
    "deletable": true,
    "editable": true
   },
   "outputs": [],
   "source": [
    "# Number of negative labels to sample\n",
    "n_sampled = 100\n",
    "with train_graph.as_default():\n",
    "    softmax_w = tf.Variable(tf.truncated_normal((n_vocab, n_embedding), stddev=0.1))\n",
    "    softmax_b = tf.Variable(tf.zeros(n_vocab))\n",
    "    \n",
    "    # Calculate the loss using negative sampling\n",
    "    loss = tf.nn.sampled_softmax_loss(softmax_w, softmax_b, labels, embed, n_sampled, n_vocab) \n",
    "    \n",
    "    cost = tf.reduce_mean(loss)\n",
    "    optimizer = tf.train.AdamOptimizer().minimize(cost)"
   ]
  },
  {
   "cell_type": "markdown",
   "metadata": {},
   "source": [
    "## Validation\n",
    "\n",
    "This code is from Thushan Ganegedara's implementation. Here we're going to choose a few common words and few uncommon words. Then, we'll print out the closest words to them. It's a nice way to check that our embedding table is grouping together words with similar semantic meanings."
   ]
  },
  {
   "cell_type": "code",
   "execution_count": 13,
   "metadata": {
    "collapsed": false
   },
   "outputs": [],
   "source": [
    "import random\n",
    "with train_graph.as_default():\n",
    "    ## From Thushan Ganegedara's implementation\n",
    "    valid_size = 16 # Random set of words to evaluate similarity on.\n",
    "    valid_window = 100\n",
    "    # pick 8 samples from (0,100) and (1000,1100) each ranges. lower id implies more frequent \n",
    "    valid_examples = np.array(random.sample(range(valid_window), valid_size//2))\n",
    "    valid_examples = np.append(valid_examples, \n",
    "                               random.sample(range(1000,1000+valid_window), valid_size//2))\n",
    "\n",
    "    valid_dataset = tf.constant(valid_examples, dtype=tf.int32)\n",
    "    \n",
    "    # We use the cosine distance:\n",
    "    norm = tf.sqrt(tf.reduce_sum(tf.square(embedding), 1, keep_dims=True))\n",
    "    normalized_embedding = embedding / norm\n",
    "    valid_embedding = tf.nn.embedding_lookup(normalized_embedding, valid_dataset)\n",
    "    similarity = tf.matmul(valid_embedding, tf.transpose(normalized_embedding))"
   ]
  },
  {
   "cell_type": "code",
   "execution_count": 14,
   "metadata": {
    "collapsed": false,
    "deletable": true,
    "editable": true
   },
   "outputs": [
    {
     "name": "stdout",
     "output_type": "stream",
     "text": [
      "mkdir: checkpoints: File exists\r\n"
     ]
    }
   ],
   "source": [
    "# If the checkpoints directory doesn't exist:\n",
    "!mkdir checkpoints"
   ]
  },
  {
   "cell_type": "markdown",
   "metadata": {},
   "source": [
    "## Training\n",
    "\n",
    "Below is the code to train the network. Every 100 batches it reports the training loss. Every 1000 batches, it'll print out the validation words."
   ]
  },
  {
   "cell_type": "code",
   "execution_count": null,
   "metadata": {
    "collapsed": false,
    "deletable": true,
    "editable": true
   },
   "outputs": [
    {
     "name": "stdout",
     "output_type": "stream",
     "text": [
      "Epoch 1/10 Iteration: 100 Avg. Training loss: 5.6966 0.3398 sec/batch\n",
      "Epoch 1/10 Iteration: 200 Avg. Training loss: 5.6297 0.3652 sec/batch\n",
      "Epoch 1/10 Iteration: 300 Avg. Training loss: 5.5355 0.3598 sec/batch\n",
      "Epoch 1/10 Iteration: 400 Avg. Training loss: 5.6042 0.3715 sec/batch\n",
      "Epoch 1/10 Iteration: 500 Avg. Training loss: 5.5070 0.3655 sec/batch\n",
      "Epoch 1/10 Iteration: 600 Avg. Training loss: 5.4954 0.3624 sec/batch\n",
      "Epoch 1/10 Iteration: 700 Avg. Training loss: 5.5494 0.3725 sec/batch\n",
      "Epoch 1/10 Iteration: 800 Avg. Training loss: 5.5427 0.3828 sec/batch\n",
      "Epoch 1/10 Iteration: 900 Avg. Training loss: 5.4871 0.3757 sec/batch\n",
      "Epoch 1/10 Iteration: 1000 Avg. Training loss: 5.4158 0.3712 sec/batch\n",
      "Nearest to its: laf, sultans, destroys, ceylon, proudhon, kashrut, misanthropy, prabhakaran,\n",
      "Nearest to seven: pneumatic, sourcebook, missouri, gamefaqs, dumb, mauser, beazley, jizya,\n",
      "Nearest to this: gives, disloyal, hikari, compares, automaker, graz, thorpe, philologists,\n",
      "Nearest to been: defaulted, lisa, promoter, malvales, honoring, regulator, asbestos, minis,\n",
      "Nearest to however: remembered, reconquista, tearing, legends, berle, breached, lleida, batter,\n",
      "Nearest to but: collaboratively, blotter, mies, smalltalk, lietuvos, marooned, culottes, robbe,\n",
      "Nearest to most: negated, slievemore, fricke, discretionary, solicit, primaries, suede, mikhailovich,\n",
      "Nearest to be: irrigated, sharp, lubwa, assess, nicolae, battery, decide, intercourse,\n",
      "Nearest to operating: wilkes, abbreviations, gangrene, dancers, slugging, silja, if, fcs,\n",
      "Nearest to mathematics: greenpeace, nils, campaigning, lakshadweep, certification, qualifiers, unexplainable, counselors,\n",
      "Nearest to bill: flirtation, cpu, fuelling, zainab, succ, minivan, slowing, cared,\n",
      "Nearest to rise: illumination, manoeuvres, musselburgh, dragsters, heldenplatz, contarini, descended, teshuva,\n",
      "Nearest to woman: circumnavigated, diabetes, fortitude, entrails, communication, azure, ty, albanian,\n",
      "Nearest to magazine: inertia, kernel, enshrine, hold, optimates, vld, architectures, adlai,\n",
      "Nearest to something: samara, reeve, pete, entrepreneur, lms, sangamon, joni, philistines,\n",
      "Nearest to pope: stockport, edsger, bilingual, bound, preventive, twayne, kindle, galvanic,\n",
      "Epoch 1/10 Iteration: 1100 Avg. Training loss: 5.4523 0.3858 sec/batch\n",
      "Epoch 1/10 Iteration: 1200 Avg. Training loss: 5.3650 0.3848 sec/batch\n",
      "Epoch 1/10 Iteration: 1300 Avg. Training loss: 5.3230 0.3575 sec/batch\n",
      "Epoch 1/10 Iteration: 1400 Avg. Training loss: 5.2325 0.3646 sec/batch\n",
      "Epoch 1/10 Iteration: 1500 Avg. Training loss: 5.1782 0.3775 sec/batch\n",
      "Epoch 1/10 Iteration: 1600 Avg. Training loss: 5.1448 0.3652 sec/batch\n",
      "Epoch 1/10 Iteration: 1700 Avg. Training loss: 5.0789 0.3600 sec/batch\n",
      "Epoch 1/10 Iteration: 1800 Avg. Training loss: 5.0796 0.3663 sec/batch\n",
      "Epoch 1/10 Iteration: 1900 Avg. Training loss: 5.0192 0.3732 sec/batch\n",
      "Epoch 1/10 Iteration: 2000 Avg. Training loss: 4.9793 0.3970 sec/batch\n",
      "Nearest to its: destroys, laf, proudhon, sultans, ceylon, phase, woody, cleaner,\n",
      "Nearest to seven: pneumatic, sourcebook, missouri, dumb, mauser, jizya, gamefaqs, nicknames,\n",
      "Nearest to this: gives, disloyal, compares, hikari, automaker, management, doubt, scheduled,\n",
      "Nearest to been: the, movement, lisa, defaulted, regulator, honoring, mandamus, dot,\n",
      "Nearest to however: tearing, subtle, remembered, grow, too, legends, real, campaign,\n",
      "Nearest to but: collaboratively, blotter, smalltalk, bars, mies, thief, housing, emigration,\n",
      "Nearest to most: solicit, encounters, discretionary, fricke, worked, exposition, reliable, beginning,\n",
      "Nearest to be: irrigated, sharp, assess, different, decide, rise, forum, second,\n",
      "Nearest to operating: wilkes, abbreviations, if, dancers, little, gangrene, railroad, reduces,\n",
      "Nearest to mathematics: nils, know, greenpeace, campaigning, counselors, quick, turner, bypass,\n",
      "Nearest to bill: fuelling, cpu, slowing, excluding, investigates, flirtation, claremont, internal,\n",
      "Nearest to rise: illumination, be, dragsters, manoeuvres, descended, celebration, universities, cover,\n",
      "Nearest to woman: circumnavigated, diabetes, ty, civilian, subordinated, communication, fortitude, entrails,\n",
      "Nearest to magazine: inertia, hold, kernel, architectures, less, adlai, enshrine, attempt,\n",
      "Nearest to something: reeve, samara, philistines, pete, four, unflattering, advances, entrepreneur,\n",
      "Nearest to pope: stockport, bound, bilingual, edsger, twayne, literature, links, preventive,\n",
      "Epoch 1/10 Iteration: 2100 Avg. Training loss: 4.9313 7.3180 sec/batch\n",
      "Epoch 1/10 Iteration: 2200 Avg. Training loss: 4.8922 0.3351 sec/batch\n",
      "Epoch 1/10 Iteration: 2300 Avg. Training loss: 4.8757 7.2766 sec/batch\n",
      "Epoch 1/10 Iteration: 2400 Avg. Training loss: 4.8526 7.2662 sec/batch\n",
      "Epoch 1/10 Iteration: 2500 Avg. Training loss: 4.8238 4.4000 sec/batch\n",
      "Epoch 1/10 Iteration: 2600 Avg. Training loss: 4.8221 5.9283 sec/batch\n",
      "Epoch 1/10 Iteration: 2700 Avg. Training loss: 4.7983 5.9262 sec/batch\n",
      "Epoch 1/10 Iteration: 2800 Avg. Training loss: 4.7739 5.9400 sec/batch\n",
      "Epoch 1/10 Iteration: 2900 Avg. Training loss: 4.7910 5.9344 sec/batch\n",
      "Epoch 1/10 Iteration: 3000 Avg. Training loss: 4.7739 5.9337 sec/batch\n",
      "Nearest to its: destroys, ceylon, sultans, laf, cleaner, proudhon, genes, equality,\n",
      "Nearest to seven: pneumatic, missouri, jizya, sourcebook, mauser, perjury, nicknames, dean,\n",
      "Nearest to this: gives, compares, disloyal, hikari, humiliation, scheduled, provincial, experimentation,\n",
      "Nearest to been: the, honoring, lisa, naively, movement, mandamus, defaulted, regulator,\n",
      "Nearest to however: reconquista, tearing, grow, remembered, sexual, productivity, manufactured, chances,\n",
      "Nearest to but: collaboratively, smalltalk, blotter, bars, districts, mies, altering, emigration,\n",
      "Nearest to most: solicit, encounters, discretionary, negated, fricke, reliable, revolutionized, circuits,\n",
      "Nearest to be: irrigated, assess, sharp, surface, decide, choices, intercourse, different,\n",
      "Nearest to operating: wilkes, abbreviations, dancers, reduces, integer, fcs, chapelle, gangrene,\n",
      "Nearest to mathematics: nils, greenpeace, treasury, campaigning, counselors, quick, bypass, turner,\n",
      "Nearest to bill: fuelling, slowing, cpu, excluding, investigates, pawns, internal, cared,\n",
      "Nearest to rise: illumination, manoeuvres, descended, dragsters, universities, be, wu, reading,\n",
      "Nearest to woman: circumnavigated, fortitude, civilian, subordinated, ty, diabetes, entrails, communication,\n",
      "Nearest to magazine: inertia, kernel, hold, architectures, signature, alleviate, cyclic, accredited,\n",
      "Nearest to something: reeve, samara, pete, entrepreneur, philistines, clinton, caution, dehydration,\n",
      "Nearest to pope: stockport, bound, bilingual, twayne, edsger, remoteness, strictly, preventive,\n",
      "Epoch 1/10 Iteration: 3100 Avg. Training loss: 4.7863 5.7789 sec/batch\n",
      "Epoch 1/10 Iteration: 3200 Avg. Training loss: 4.7534 5.9425 sec/batch\n",
      "Epoch 1/10 Iteration: 3300 Avg. Training loss: 4.7418 5.9313 sec/batch\n",
      "Epoch 1/10 Iteration: 3400 Avg. Training loss: 4.7004 0.3250 sec/batch\n",
      "Epoch 1/10 Iteration: 3500 Avg. Training loss: 4.7250 5.9252 sec/batch\n",
      "Epoch 1/10 Iteration: 3600 Avg. Training loss: 4.7037 5.9375 sec/batch\n",
      "Epoch 1/10 Iteration: 3700 Avg. Training loss: 4.7121 5.9231 sec/batch\n",
      "Epoch 1/10 Iteration: 3800 Avg. Training loss: 4.7206 5.9346 sec/batch\n",
      "Epoch 1/10 Iteration: 3900 Avg. Training loss: 4.6980 16.4178 sec/batch\n",
      "Epoch 1/10 Iteration: 4000 Avg. Training loss: 4.6752 0.3362 sec/batch\n",
      "Nearest to its: sultans, laf, ceylon, cleaner, rosetta, consulting, destroys, misanthropy,\n",
      "Nearest to seven: one, mauser, pneumatic, missouri, perjury, jizya, sourcebook, dean,\n",
      "Nearest to this: gives, compares, disloyal, hikari, humiliation, unjustified, philologists, humidity,\n",
      "Nearest to been: the, honoring, naively, defaulted, promoter, movement, mined, mandamus,\n",
      "Nearest to however: reconquista, tearing, sexual, manufactured, atheling, manifolds, grow, fujiwara,\n",
      "Nearest to but: collaboratively, smalltalk, altering, marooned, mies, bars, strengthen, lietuvos,\n",
      "Nearest to most: negated, discretionary, fricke, solicit, encounters, reliable, suede, saboteurs,\n",
      "Nearest to be: irrigated, assess, sharp, different, bayh, surface, choices, intercourse,\n",
      "Nearest to operating: wilkes, abbreviations, dancers, reduces, chapelle, fcs, gangrene, integer,\n",
      "Nearest to mathematics: greenpeace, counselors, treasury, nils, tenacity, raya, faure, strictness,\n",
      "Nearest to bill: fuelling, slowing, flirtation, investigates, cpu, excluding, cared, prohibitions,\n",
      "Nearest to rise: illumination, manoeuvres, universities, dragsters, descended, wu, dare, spiked,\n",
      "Nearest to woman: fortitude, circumnavigated, entrails, pediatrics, subordinated, civilian, diabetes, ty,\n",
      "Nearest to magazine: inertia, kernel, architectures, adlai, hold, nos, indium, accredited,\n",
      "Nearest to something: reeve, pete, samara, philistines, entrepreneur, unflattering, dehydration, shelters,\n",
      "Nearest to pope: stockport, twayne, bound, edsger, remoteness, apologize, smuts, bilingual,\n",
      "Epoch 1/10 Iteration: 4100 Avg. Training loss: 4.6832 20.3008 sec/batch\n",
      "Epoch 1/10 Iteration: 4200 Avg. Training loss: 4.6677 5.9166 sec/batch\n",
      "Epoch 1/10 Iteration: 4300 Avg. Training loss: 4.6354 5.9108 sec/batch\n",
      "Epoch 1/10 Iteration: 4400 Avg. Training loss: 4.6530 5.9265 sec/batch\n",
      "Epoch 1/10 Iteration: 4500 Avg. Training loss: 4.6281 5.9202 sec/batch\n",
      "Epoch 1/10 Iteration: 4600 Avg. Training loss: 4.6438 5.9193 sec/batch\n",
      "Epoch 2/10 Iteration: 4700 Avg. Training loss: 4.6066 0.2535 sec/batch\n",
      "Epoch 2/10 Iteration: 4800 Avg. Training loss: 4.5700 5.4543 sec/batch\n",
      "Epoch 2/10 Iteration: 4900 Avg. Training loss: 4.5405 5.9094 sec/batch\n",
      "Epoch 2/10 Iteration: 5000 Avg. Training loss: 4.4868 5.9161 sec/batch\n",
      "Nearest to its: sultans, laf, cleaner, ceylon, rosetta, misanthropy, destroys, courland,\n",
      "Nearest to seven: one, missouri, b, de, perjury, mauser, jizya, statesman,\n",
      "Nearest to this: gives, compares, disloyal, unjustified, chromaticism, philologists, hikari, humiliation,\n",
      "Nearest to been: the, defaulted, asbestos, naively, mandamus, honoring, shook, clandestine,\n",
      "Nearest to however: tearing, reconquista, atheling, manifolds, sexual, real, bolsters, productivity,\n",
      "Nearest to but: smalltalk, collaboratively, marooned, altering, strengthen, painful, bars, lietuvos,\n",
      "Nearest to most: fricke, negated, discretionary, reliable, slievemore, solicit, jodi, saboteurs,\n",
      "Nearest to be: irrigated, assess, sharp, different, herein, surface, bayh, intercourse,\n",
      "Nearest to operating: wilkes, reduces, abbreviations, dancers, gangrene, railroad, integer, assets,\n",
      "Nearest to mathematics: counselors, treasury, nils, greenpeace, raya, know, mathematical, tenacity,\n",
      "Nearest to bill: flirtation, slowing, fuelling, zainab, investigates, cared, succ, hollerith,\n",
      "Nearest to rise: illumination, manoeuvres, dragsters, spiked, universities, descended, wu, cover,\n",
      "Nearest to woman: entrails, fortitude, circumnavigated, pediatrics, lullaby, subordinated, ty, layman,\n",
      "Nearest to magazine: inertia, adlai, kernel, nos, architectures, indium, pwned, eisenberg,\n",
      "Nearest to something: reeve, samara, pete, dehydration, unflattering, philistines, nestorianism, interest,\n",
      "Nearest to pope: twayne, stockport, earl, edsger, franks, ii, apologize, caterina,\n",
      "Epoch 2/10 Iteration: 5100 Avg. Training loss: 4.4994 5.9214 sec/batch\n",
      "Epoch 2/10 Iteration: 5200 Avg. Training loss: 4.5023 5.9108 sec/batch\n",
      "Epoch 2/10 Iteration: 5300 Avg. Training loss: 4.4620 5.9326 sec/batch\n",
      "Epoch 2/10 Iteration: 5400 Avg. Training loss: 4.5231 5.7535 sec/batch\n",
      "Epoch 2/10 Iteration: 5500 Avg. Training loss: 4.4933 0.3225 sec/batch\n",
      "Epoch 2/10 Iteration: 5600 Avg. Training loss: 4.4906 5.9158 sec/batch\n",
      "Epoch 2/10 Iteration: 5700 Avg. Training loss: 4.4714 5.9082 sec/batch\n",
      "Epoch 2/10 Iteration: 5800 Avg. Training loss: 4.4061 5.9034 sec/batch\n",
      "Epoch 2/10 Iteration: 5900 Avg. Training loss: 4.4106 5.9187 sec/batch\n",
      "Epoch 2/10 Iteration: 6000 Avg. Training loss: 4.4521 5.9246 sec/batch\n",
      "Nearest to its: sultans, cleaner, laf, ceylon, misanthropy, veterinarians, courland, rosetta,\n",
      "Nearest to seven: one, missouri, mauser, sourcebook, pneumatic, perjury, dean, railways,\n",
      "Nearest to this: gives, compares, unjustified, disloyal, chromaticism, humidity, philologists, sioux,\n",
      "Nearest to been: the, defaulted, honoring, naively, mandamus, clandestine, asbestos, shook,\n",
      "Nearest to however: manifolds, leathers, tearing, bolsters, real, sexual, atheling, molasses,\n",
      "Nearest to but: smalltalk, collaboratively, altering, marooned, painful, summands, clockless, lietuvos,\n",
      "Nearest to most: reliable, discretionary, fricke, jodi, begin, negated, analysed, slievemore,\n",
      "Nearest to be: assess, irrigated, sharp, different, herein, surface, jps, intercourse,\n",
      "Nearest to operating: wilkes, reduces, hardware, abbreviations, integer, floppy, assets, silja,\n",
      "Nearest to mathematics: mathematical, sets, nils, counselors, thus, raya, treasury, greenpeace,\n",
      "Nearest to bill: fuelling, flirtation, slowing, bryan, zainab, cared, matt, succ,\n",
      "Nearest to rise: illumination, manoeuvres, dragsters, spiked, wu, racked, universities, descended,\n",
      "Nearest to woman: entrails, fortitude, pediatrics, circumnavigated, lullaby, subordinated, ty, diabetes,\n",
      "Nearest to magazine: inertia, kernel, adlai, indium, architectures, eisenberg, enshrine, nos,\n",
      "Nearest to something: reeve, dehydration, samara, nestorianism, pete, interest, excreting, stained,\n",
      "Nearest to pope: twayne, franks, stockport, earl, edsger, priest, catholics, apologize,\n",
      "Epoch 2/10 Iteration: 6100 Avg. Training loss: 4.4295 5.9255 sec/batch\n",
      "Epoch 2/10 Iteration: 6200 Avg. Training loss: 4.4196 5.9346 sec/batch\n",
      "Epoch 2/10 Iteration: 6300 Avg. Training loss: 4.4102 0.3194 sec/batch\n",
      "Epoch 2/10 Iteration: 6400 Avg. Training loss: 4.3990 5.9091 sec/batch\n",
      "Epoch 2/10 Iteration: 6500 Avg. Training loss: 4.4270 5.9173 sec/batch\n",
      "Epoch 2/10 Iteration: 6600 Avg. Training loss: 4.4386 5.9195 sec/batch\n",
      "Epoch 2/10 Iteration: 6700 Avg. Training loss: 4.3824 5.9061 sec/batch\n",
      "Epoch 2/10 Iteration: 6800 Avg. Training loss: 4.3760 5.9200 sec/batch\n",
      "Epoch 2/10 Iteration: 6900 Avg. Training loss: 4.3836 5.9305 sec/batch\n",
      "Epoch 2/10 Iteration: 7000 Avg. Training loss: 4.3763 5.9286 sec/batch\n",
      "Nearest to its: sultans, cleaner, laf, ceylon, rosetta, misanthropy, courland, phase,\n",
      "Nearest to seven: one, missouri, sourcebook, dean, mauser, pneumatic, perjury, de,\n",
      "Nearest to this: gives, compares, unjustified, writing, disloyal, humidity, experimentation, philologists,\n",
      "Nearest to been: defaulted, honoring, the, mandamus, clandestine, naively, asbestos, movement,\n",
      "Nearest to however: manifolds, leathers, bolsters, molasses, sexual, tearing, atheling, mossad,\n",
      "Nearest to but: collaboratively, marooned, smalltalk, painful, summands, altering, lietuvos, clockless,\n",
      "Nearest to most: reliable, jodi, negated, fricke, solicit, discretionary, encounters, begin,\n",
      "Nearest to be: irrigated, assess, herein, sharp, different, jps, manipulative, decide,\n",
      "Nearest to operating: hardware, floppy, reduces, synchronize, wilkes, windows, integer, silja,\n",
      "Nearest to mathematics: mathematical, nils, sets, algebra, raya, baudrillard, spate, elaborations,\n",
      "Nearest to bill: fuelling, flirtation, slowing, zainab, bryan, matt, succ, girlfriend,\n",
      "Nearest to rise: manoeuvres, illumination, dragsters, racked, spiked, wu, easing, descended,\n",
      "Nearest to woman: pediatrics, entrails, fortitude, circumnavigated, lullaby, subordinated, ty, diabetes,\n",
      "Nearest to magazine: inertia, kernel, adlai, eisenberg, herbert, architectures, indium, enshrine,\n",
      "Nearest to something: reeve, dehydration, excreting, samara, nestorianism, impossible, longbowman, interest,\n",
      "Nearest to pope: franks, catholics, priest, stockport, twayne, earl, apologize, ostend,\n",
      "Epoch 2/10 Iteration: 7100 Avg. Training loss: 4.3643 0.3292 sec/batch\n",
      "Epoch 2/10 Iteration: 7200 Avg. Training loss: 4.3932 5.9108 sec/batch\n",
      "Epoch 2/10 Iteration: 7300 Avg. Training loss: 4.3477 5.9201 sec/batch\n",
      "Epoch 2/10 Iteration: 7400 Avg. Training loss: 4.3428 5.9074 sec/batch\n",
      "Epoch 2/10 Iteration: 7500 Avg. Training loss: 4.4044 5.9204 sec/batch\n",
      "Epoch 2/10 Iteration: 7600 Avg. Training loss: 4.3621 5.9160 sec/batch\n",
      "Epoch 2/10 Iteration: 7700 Avg. Training loss: 4.3955 5.9235 sec/batch\n",
      "Epoch 2/10 Iteration: 7800 Avg. Training loss: 4.3779 5.9285 sec/batch\n",
      "Epoch 2/10 Iteration: 7900 Avg. Training loss: 4.3388 0.3219 sec/batch\n",
      "Epoch 2/10 Iteration: 8000 Avg. Training loss: 4.3431 5.9027 sec/batch\n",
      "Nearest to its: sultans, ceylon, cleaner, laf, rosetta, misanthropy, into, euglenozoa,\n",
      "Nearest to seven: one, mauser, sourcebook, coldest, missouri, pneumatic, perjury, levitation,\n",
      "Nearest to this: gives, unjustified, compares, writing, brahe, glagolitic, disloyal, humidity,\n",
      "Nearest to been: the, defaulted, clandestine, mandamus, shook, movement, honoring, naively,\n",
      "Nearest to however: manifolds, bolsters, sexual, mossad, atheling, leathers, molasses, manufactured,\n",
      "Nearest to but: collaboratively, summands, painful, lietuvos, prosaic, clockless, smalltalk, altering,\n",
      "Nearest to most: jodi, negated, reliable, begin, unprepared, discretionary, fricke, slievemore,\n",
      "Nearest to be: assess, irrigated, herein, jps, decide, sharp, manipulative, intercourse,\n",
      "Nearest to operating: hardware, windows, os, floppy, wilkes, synchronize, controller, bytes,\n",
      "Nearest to mathematics: mathematical, algebra, sets, princeton, nils, raya, physics, gradient,\n",
      "Nearest to bill: fuelling, flirtation, slowing, bryan, succ, zainab, girlfriend, investigates,\n",
      "Nearest to rise: manoeuvres, spiked, dragsters, illumination, easing, universities, racked, wu,\n",
      "Nearest to woman: pediatrics, fortitude, circumnavigated, entrails, expectancy, lullaby, est, ty,\n",
      "Nearest to magazine: inertia, architectures, adlai, kernel, herbert, eisenberg, burns, blofeld,\n",
      "Nearest to something: reeve, dehydration, samara, nestorianism, impossible, lms, interest, pete,\n",
      "Nearest to pope: catholics, franks, priest, twayne, stockport, glorious, protestants, galatians,\n",
      "Epoch 2/10 Iteration: 8100 Avg. Training loss: 4.3510 5.9264 sec/batch\n",
      "Epoch 2/10 Iteration: 8200 Avg. Training loss: 4.2897 5.9109 sec/batch\n",
      "Epoch 2/10 Iteration: 8300 Avg. Training loss: 4.3764 5.9139 sec/batch\n",
      "Epoch 2/10 Iteration: 8400 Avg. Training loss: 4.3575 5.8986 sec/batch\n",
      "Epoch 2/10 Iteration: 8500 Avg. Training loss: 4.4045 5.9186 sec/batch\n",
      "Epoch 2/10 Iteration: 8600 Avg. Training loss: 4.2701 5.9341 sec/batch\n",
      "Epoch 2/10 Iteration: 8700 Avg. Training loss: 4.3188 0.3152 sec/batch\n",
      "Epoch 2/10 Iteration: 8800 Avg. Training loss: 4.3509 5.9067 sec/batch\n",
      "Epoch 2/10 Iteration: 8900 Avg. Training loss: 4.2151 5.9097 sec/batch\n",
      "Epoch 2/10 Iteration: 9000 Avg. Training loss: 4.3066 1.9550 sec/batch\n",
      "Nearest to its: sultans, laf, cleaner, into, ceylon, misanthropy, rosetta, courland,\n",
      "Nearest to seven: one, five, two, mauser, zero, philanthropist, sourcebook, giuseppe,\n",
      "Nearest to this: gives, unjustified, writing, compares, brahe, humiliation, glagolitic, chromaticism,\n",
      "Nearest to been: asbestos, defaulted, mandamus, the, movement, naively, clandestine, shook,\n",
      "Nearest to however: sexual, atheling, mossad, manifolds, bolsters, molasses, leathers, amon,\n",
      "Nearest to but: lietuvos, collaboratively, summands, painful, clockless, alternatives, prosaic, mies,\n",
      "Nearest to most: jodi, reliable, negated, analysed, discretionary, exacerbated, saboteurs, mikhailovich,\n",
      "Nearest to be: herein, assess, jps, irrigated, sharp, different, manipulative, decide,\n",
      "Nearest to operating: windows, hardware, os, floppy, graphical, silja, wilkes, synchronize,\n",
      "Nearest to mathematics: mathematical, princeton, physics, algebra, sets, nils, gradient, logic,\n",
      "Nearest to bill: fuelling, flirtation, zainab, bryan, slowing, succ, alejandro, girlfriend,\n",
      "Nearest to rise: manoeuvres, dragsters, spiked, easing, universities, racked, kertzer, battlefield,\n",
      "Nearest to woman: pediatrics, est, expectancy, female, fortitude, entrails, circumnavigated, subordinated,\n",
      "Nearest to magazine: inertia, kernel, architectures, burns, blofeld, adlai, eisenberg, herbert,\n",
      "Nearest to something: reeve, nestorianism, what, longbowman, pete, unflattering, samara, excreting,\n",
      "Nearest to pope: catholics, franks, priest, twayne, stockport, iii, clement, ii,\n",
      "Epoch 2/10 Iteration: 9100 Avg. Training loss: 4.2794 5.9284 sec/batch\n",
      "Epoch 2/10 Iteration: 9200 Avg. Training loss: 4.3023 5.9132 sec/batch\n",
      "Epoch 3/10 Iteration: 9300 Avg. Training loss: 4.3408 5.7395 sec/batch\n",
      "Epoch 3/10 Iteration: 9400 Avg. Training loss: 4.2801 5.9186 sec/batch\n",
      "Epoch 3/10 Iteration: 9500 Avg. Training loss: 4.2488 0.3159 sec/batch\n",
      "Epoch 3/10 Iteration: 9600 Avg. Training loss: 4.2385 5.9120 sec/batch\n",
      "Epoch 3/10 Iteration: 9700 Avg. Training loss: 4.2116 5.1502 sec/batch\n",
      "Epoch 3/10 Iteration: 9800 Avg. Training loss: 4.2239 5.9058 sec/batch\n",
      "Epoch 3/10 Iteration: 9900 Avg. Training loss: 4.2515 5.1062 sec/batch\n",
      "Epoch 3/10 Iteration: 10000 Avg. Training loss: 4.1878 344.9083 sec/batch\n",
      "Nearest to its: sultans, into, rosetta, cleaner, laf, ceylon, misanthropy, phase,\n",
      "Nearest to seven: one, two, five, mauser, sourcebook, zero, snoopy, levitation,\n",
      "Nearest to this: unjustified, gives, difficult, writing, situs, hikari, compares, glagolitic,\n",
      "Nearest to been: asbestos, clandestine, defaulted, mandamus, the, naively, superconductivity, honoring,\n",
      "Nearest to however: bolsters, mossad, manifolds, molasses, betrayed, atheling, drunkards, sexual,\n",
      "Nearest to but: lietuvos, collaboratively, clockless, summands, alternatives, painful, mies, culottes,\n",
      "Nearest to most: jodi, negated, slievemore, fricke, discretionary, reliable, analysed, saboteurs,\n",
      "Nearest to be: assess, herein, jps, irrigated, sharp, fingerprints, nonlinear, manipulative,\n",
      "Nearest to operating: windows, os, hardware, synchronize, floppy, wilkes, connector, silja,\n",
      "Nearest to mathematics: mathematical, princeton, physics, algebra, sets, nils, logic, concepts,\n",
      "Nearest to bill: fuelling, flirtation, slowing, zainab, succ, bryan, girlfriend, khaki,\n",
      "Nearest to rise: manoeuvres, dragsters, racked, kertzer, spiked, easing, universities, battlefield,\n",
      "Nearest to woman: pediatrics, est, female, fortitude, expectancy, entrails, circumnavigated, beale,\n",
      "Nearest to magazine: inertia, kernel, blofeld, architectures, burns, indium, marvel, herbert,\n",
      "Nearest to something: reeve, nestorianism, longbowman, excreting, samara, lms, pete, unflattering,\n",
      "Nearest to pope: franks, catholics, clement, iv, priest, iii, archbishop, pius,\n",
      "Epoch 3/10 Iteration: 10100 Avg. Training loss: 4.2626 0.4157 sec/batch\n",
      "Epoch 3/10 Iteration: 10200 Avg. Training loss: 4.2580 0.3569 sec/batch\n",
      "Epoch 3/10 Iteration: 10300 Avg. Training loss: 4.2211 0.3931 sec/batch\n",
      "Epoch 3/10 Iteration: 10400 Avg. Training loss: 4.1096 0.3885 sec/batch\n",
      "Epoch 3/10 Iteration: 10500 Avg. Training loss: 4.1702 0.4255 sec/batch\n",
      "Epoch 3/10 Iteration: 10600 Avg. Training loss: 4.1630 0.4187 sec/batch\n",
      "Epoch 3/10 Iteration: 10700 Avg. Training loss: 4.1806 0.4041 sec/batch\n",
      "Epoch 3/10 Iteration: 10800 Avg. Training loss: 4.1499 0.4372 sec/batch\n",
      "Epoch 3/10 Iteration: 10900 Avg. Training loss: 4.2056 0.4100 sec/batch\n",
      "Epoch 3/10 Iteration: 11000 Avg. Training loss: 4.1595 0.4033 sec/batch\n",
      "Nearest to its: sultans, rosetta, cleaner, into, misanthropy, vermes, dwellers, ceylon,\n",
      "Nearest to seven: one, two, five, zero, noblesse, gilbertese, mauser, sourcebook,\n",
      "Nearest to this: gives, unjustified, difficult, pointers, situs, chromaticism, phagocytosis, writing,\n",
      "Nearest to been: asbestos, mandamus, defaulted, herd, nursultan, clandestine, movement, naively,\n",
      "Nearest to however: bolsters, molasses, mossad, manufactured, leathers, manifolds, sexual, drunkards,\n",
      "Nearest to but: lietuvos, painful, collaboratively, clockless, alternatives, prosaic, summands, culottes,\n",
      "Nearest to most: negated, jodi, analysed, discretionary, reliable, fricke, slievemore, revolutionized,\n",
      "Nearest to be: jps, manipulative, herein, assess, nonlinear, second, fingerprints, different,\n",
      "Nearest to operating: windows, os, hardware, synchronize, floppy, abbreviations, wilkes, connector,\n",
      "Nearest to mathematics: mathematical, princeton, physics, algebra, nils, sets, logic, continuum,\n",
      "Nearest to bill: fuelling, flirtation, zainab, succ, slowing, girlfriend, taoiseach, khaki,\n",
      "Nearest to rise: manoeuvres, dragsters, racked, spiked, kertzer, easing, nebulous, illumination,\n",
      "Nearest to woman: pediatrics, female, est, expectancy, birth, infant, fortitude, male,\n",
      "Nearest to magazine: inertia, kernel, blofeld, architectures, indium, marvel, herbert, eisenberg,\n",
      "Nearest to something: reeve, excreting, longbowman, impossible, zooming, what, asking, nestorianism,\n",
      "Nearest to pope: franks, catholics, pius, archbishop, priest, iii, clement, protestants,\n",
      "Epoch 3/10 Iteration: 11100 Avg. Training loss: 4.1807 0.4448 sec/batch\n",
      "Epoch 3/10 Iteration: 11200 Avg. Training loss: 4.2297 0.4063 sec/batch\n",
      "Epoch 3/10 Iteration: 11300 Avg. Training loss: 4.1583 0.4153 sec/batch\n",
      "Epoch 3/10 Iteration: 11400 Avg. Training loss: 4.1520 0.4151 sec/batch\n",
      "Epoch 3/10 Iteration: 11500 Avg. Training loss: 4.1594 0.4149 sec/batch\n",
      "Epoch 3/10 Iteration: 11600 Avg. Training loss: 4.1888 0.4167 sec/batch\n",
      "Epoch 3/10 Iteration: 11700 Avg. Training loss: 4.1919 0.4108 sec/batch\n",
      "Epoch 3/10 Iteration: 11800 Avg. Training loss: 4.1527 0.4357 sec/batch\n",
      "Epoch 3/10 Iteration: 11900 Avg. Training loss: 4.1219 0.4424 sec/batch\n"
     ]
    }
   ],
   "source": [
    "epochs = 10\n",
    "batch_size = 1000\n",
    "window_size = 10\n",
    "\n",
    "with train_graph.as_default():\n",
    "    saver = tf.train.Saver()\n",
    "\n",
    "with tf.Session(graph=train_graph) as sess:\n",
    "    iteration = 1\n",
    "    loss = 0\n",
    "    sess.run(tf.global_variables_initializer())\n",
    "\n",
    "    for e in range(1, epochs+1):\n",
    "        batches = get_batches(train_words, batch_size, window_size)\n",
    "        start = time.time()\n",
    "        for x, y in batches:\n",
    "            \n",
    "            feed = {inputs: x,\n",
    "                    labels: np.array(y)[:, None]}\n",
    "            train_loss, _ = sess.run([cost, optimizer], feed_dict=feed)\n",
    "            \n",
    "            loss += train_loss\n",
    "            \n",
    "            if iteration % 100 == 0: \n",
    "                end = time.time()\n",
    "                print(\"Epoch {}/{}\".format(e, epochs),\n",
    "                      \"Iteration: {}\".format(iteration),\n",
    "                      \"Avg. Training loss: {:.4f}\".format(loss/100),\n",
    "                      \"{:.4f} sec/batch\".format((end-start)/100))\n",
    "                loss = 0\n",
    "                start = time.time()\n",
    "            \n",
    "            if iteration % 1000 == 0:\n",
    "                ## From Thushan Ganegedara's implementation\n",
    "                # note that this is expensive (~20% slowdown if computed every 500 steps)\n",
    "                sim = similarity.eval()\n",
    "                for i in range(valid_size):\n",
    "                    valid_word = int_to_vocab[valid_examples[i]]\n",
    "                    top_k = 8 # number of nearest neighbors\n",
    "                    nearest = (-sim[i, :]).argsort()[1:top_k+1]\n",
    "                    log = 'Nearest to %s:' % valid_word\n",
    "                    for k in range(top_k):\n",
    "                        close_word = int_to_vocab[nearest[k]]\n",
    "                        log = '%s %s,' % (log, close_word)\n",
    "                    print(log)\n",
    "            \n",
    "            iteration += 1\n",
    "    save_path = saver.save(sess, \"checkpoints/text8.ckpt\")\n",
    "    embed_mat = sess.run(normalized_embedding)"
   ]
  },
  {
   "cell_type": "raw",
   "metadata": {},
   "source": [
    "Restore the trained network if you need to:"
   ]
  },
  {
   "cell_type": "code",
   "execution_count": null,
   "metadata": {
    "collapsed": false
   },
   "outputs": [],
   "source": [
    "with train_graph.as_default():\n",
    "    saver = tf.train.Saver()\n",
    "\n",
    "with tf.Session(graph=train_graph) as sess:\n",
    "    saver.restore(sess, tf.train.latest_checkpoint('checkpoints'))\n",
    "    embed_mat = sess.run(embedding)"
   ]
  },
  {
   "cell_type": "markdown",
   "metadata": {},
   "source": [
    "## Visualizing the word vectors\n",
    "\n",
    "Below we'll use T-SNE to visualize how our high-dimensional word vectors cluster together. T-SNE is used to project these vectors into two dimensions while preserving local stucture. Check out [this post from Christopher Olah](http://colah.github.io/posts/2014-10-Visualizing-MNIST/) to learn more about T-SNE and other ways to visualize high-dimensional data."
   ]
  },
  {
   "cell_type": "code",
   "execution_count": null,
   "metadata": {
    "collapsed": false,
    "deletable": true,
    "editable": true
   },
   "outputs": [],
   "source": [
    "%matplotlib inline\n",
    "%config InlineBackend.figure_format = 'retina'\n",
    "\n",
    "import matplotlib.pyplot as plt\n",
    "from sklearn.manifold import TSNE"
   ]
  },
  {
   "cell_type": "code",
   "execution_count": null,
   "metadata": {
    "collapsed": false,
    "deletable": true,
    "editable": true
   },
   "outputs": [],
   "source": [
    "viz_words = 500\n",
    "tsne = TSNE()\n",
    "embed_tsne = tsne.fit_transform(embed_mat[:viz_words, :])"
   ]
  },
  {
   "cell_type": "code",
   "execution_count": null,
   "metadata": {
    "collapsed": false,
    "deletable": true,
    "editable": true
   },
   "outputs": [],
   "source": [
    "fig, ax = plt.subplots(figsize=(14, 14))\n",
    "for idx in range(viz_words):\n",
    "    plt.scatter(*embed_tsne[idx, :], color='steelblue')\n",
    "    plt.annotate(int_to_vocab[idx], (embed_tsne[idx, 0], embed_tsne[idx, 1]), alpha=0.7)"
   ]
  }
 ],
 "metadata": {
  "kernelspec": {
   "display_name": "Python 3",
   "language": "python",
   "name": "python3"
  },
  "language_info": {
   "codemirror_mode": {
    "name": "ipython",
    "version": 3
   },
   "file_extension": ".py",
   "mimetype": "text/x-python",
   "name": "python",
   "nbconvert_exporter": "python",
   "pygments_lexer": "ipython3",
   "version": "3.5.2"
  }
 },
 "nbformat": 4,
 "nbformat_minor": 2
}
