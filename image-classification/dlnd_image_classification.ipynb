{
 "cells": [
  {
   "cell_type": "markdown",
   "metadata": {
    "collapsed": true,
    "deletable": true,
    "editable": true
   },
   "source": [
    "# Image Classification\n",
    "In this project, you'll classify images from the [CIFAR-10 dataset](https://www.cs.toronto.edu/~kriz/cifar.html).  The dataset consists of airplanes, dogs, cats, and other objects. You'll preprocess the images, then train a convolutional neural network on all the samples. The images need to be normalized and the labels need to be one-hot encoded.  You'll get to apply what you learned and build a convolutional, max pooling, dropout, and fully connected layers.  At the end, you'll get to see your neural network's predictions on the sample images.\n",
    "## Get the Data\n",
    "Run the following cell to download the [CIFAR-10 dataset for python](https://www.cs.toronto.edu/~kriz/cifar-10-python.tar.gz)."
   ]
  },
  {
   "cell_type": "code",
   "execution_count": 2,
   "metadata": {
    "collapsed": false,
    "deletable": true,
    "editable": true
   },
   "outputs": [
    {
     "name": "stderr",
     "output_type": "stream",
     "text": [
      "CIFAR-10 Dataset: 171MB [00:19, 8.55MB/s]                              \n"
     ]
    },
    {
     "name": "stdout",
     "output_type": "stream",
     "text": [
      "All files found!\n"
     ]
    }
   ],
   "source": [
    "\"\"\"\n",
    "DON'T MODIFY ANYTHING IN THIS CELL THAT IS BELOW THIS LINE\n",
    "\"\"\"\n",
    "from urllib.request import urlretrieve\n",
    "from os.path import isfile, isdir\n",
    "from tqdm import tqdm\n",
    "import problem_unittests as tests\n",
    "import tarfile\n",
    "\n",
    "cifar10_dataset_folder_path = 'cifar-10-batches-py'\n",
    "\n",
    "# Use Floyd's cifar-10 dataset if present\n",
    "floyd_cifar10_location = '/input/cifar-10/python.tar.gz'\n",
    "if isfile(floyd_cifar10_location):\n",
    "    tar_gz_path = floyd_cifar10_location\n",
    "else:\n",
    "    tar_gz_path = 'cifar-10-python.tar.gz'\n",
    "\n",
    "class DLProgress(tqdm):\n",
    "    last_block = 0\n",
    "\n",
    "    def hook(self, block_num=1, block_size=1, total_size=None):\n",
    "        self.total = total_size\n",
    "        self.update((block_num - self.last_block) * block_size)\n",
    "        self.last_block = block_num\n",
    "\n",
    "if not isfile(tar_gz_path):\n",
    "    with DLProgress(unit='B', unit_scale=True, miniters=1, desc='CIFAR-10 Dataset') as pbar:\n",
    "        urlretrieve(\n",
    "            'https://www.cs.toronto.edu/~kriz/cifar-10-python.tar.gz',\n",
    "            tar_gz_path,\n",
    "            pbar.hook)\n",
    "\n",
    "if not isdir(cifar10_dataset_folder_path):\n",
    "    with tarfile.open(tar_gz_path) as tar:\n",
    "        tar.extractall()\n",
    "        tar.close()\n",
    "\n",
    "\n",
    "tests.test_folder_path(cifar10_dataset_folder_path)"
   ]
  },
  {
   "cell_type": "markdown",
   "metadata": {
    "deletable": true,
    "editable": true
   },
   "source": [
    "## Explore the Data\n",
    "The dataset is broken into batches to prevent your machine from running out of memory.  The CIFAR-10 dataset consists of 5 batches, named `data_batch_1`, `data_batch_2`, etc.. Each batch contains the labels and images that are one of the following:\n",
    "* airplane\n",
    "* automobile\n",
    "* bird\n",
    "* cat\n",
    "* deer\n",
    "* dog\n",
    "* frog\n",
    "* horse\n",
    "* ship\n",
    "* truck\n",
    "\n",
    "Understanding a dataset is part of making predictions on the data.  Play around with the code cell below by changing the `batch_id` and `sample_id`. The `batch_id` is the id for a batch (1-5). The `sample_id` is the id for a image and label pair in the batch.\n",
    "\n",
    "Ask yourself \"What are all possible labels?\", \"What is the range of values for the image data?\", \"Are the labels in order or random?\".  Answers to questions like these will help you preprocess the data and end up with better predictions."
   ]
  },
  {
   "cell_type": "code",
   "execution_count": 7,
   "metadata": {
    "collapsed": false,
    "deletable": true,
    "editable": true
   },
   "outputs": [
    {
     "name": "stdout",
     "output_type": "stream",
     "text": [
      "\n",
      "Stats of batch 2:\n",
      "Samples: 10000\n",
      "Label Counts: {0: 984, 1: 1007, 2: 1010, 3: 995, 4: 1010, 5: 988, 6: 1008, 7: 1026, 8: 987, 9: 985}\n",
      "First 20 Labels: [1, 6, 6, 8, 8, 3, 4, 6, 0, 6, 0, 3, 6, 6, 5, 4, 8, 3, 2, 6]\n",
      "\n",
      "Example of Image 8:\n",
      "Image - Min Value: 31 Max Value: 255\n",
      "Image - Shape: (32, 32, 3)\n",
      "Label - Label Id: 0 Name: airplane\n"
     ]
    },
    {
     "data": {
      "image/png": "[encoded data removed]",
      "text/plain": [
       "<matplotlib.figure.Figure at 0x11dbf7550>"
      ]
     },
     "metadata": {
      "image/png": {
       "height": 250,
       "width": 253
      }
     },
     "output_type": "display_data"
    }
   ],
   "source": [
    "%matplotlib inline\n",
    "%config InlineBackend.figure_format = 'retina'\n",
    "\n",
    "import helper\n",
    "import numpy as np\n",
    "\n",
    "# Explore the dataset\n",
    "batch_id = 2\n",
    "sample_id = 8\n",
    "helper.display_stats(cifar10_dataset_folder_path, batch_id, sample_id)"
   ]
  },
  {
   "cell_type": "markdown",
   "metadata": {
    "deletable": true,
    "editable": true
   },
   "source": [
    "## Implement Preprocess Functions\n",
    "### Normalize\n",
    "In the cell below, implement the `normalize` function to take in image data, `x`, and return it as a normalized Numpy array. The values should be in the range of 0 to 1, inclusive.  The return object should be the same shape as `x`."
   ]
  },
  {
   "cell_type": "code",
   "execution_count": 31,
   "metadata": {
    "collapsed": false,
    "deletable": true,
    "editable": true
   },
   "outputs": [
    {
     "name": "stdout",
     "output_type": "stream",
     "text": [
      "Tests Passed\n"
     ]
    }
   ],
   "source": [
    "def normalize(x):\n",
    "    \"\"\"\n",
    "    Normalize a list of sample image data in the range of 0 to 1\n",
    "    : x: List of image data.  The image shape is (32, 32, 3)\n",
    "    : return: Numpy array of normalize data\n",
    "    \"\"\"\n",
    "    # TODO: Implement Function\n",
    "    maxima = np.max(x, axis=(0,1))\n",
    "    minima = np.min(x, axis=(0,1))\n",
    "    return (x.astype(float)-minima)/(maxima-minima)\n",
    "\n",
    "\"\"\"\n",
    "DON'T MODIFY ANYTHING IN THIS CELL THAT IS BELOW THIS LINE\n",
    "\"\"\"\n",
    "tests.test_normalize(normalize)"
   ]
  },
  {
   "cell_type": "markdown",
   "metadata": {
    "deletable": true,
    "editable": true
   },
   "source": [
    "### One-hot encode\n",
    "Just like the previous code cell, you'll be implementing a function for preprocessing.  This time, you'll implement the `one_hot_encode` function. The input, `x`, are a list of labels.  Implement the function to return the list of labels as One-Hot encoded Numpy array.  The possible values for labels are 0 to 9. The one-hot encoding function should return the same encoding for each value between each call to `one_hot_encode`.  Make sure to save the map of encodings outside the function.\n",
    "\n",
    "Hint: Don't reinvent the wheel."
   ]
  },
  {
   "cell_type": "code",
   "execution_count": 144,
   "metadata": {
    "collapsed": false,
    "deletable": true,
    "editable": true
   },
   "outputs": [
    {
     "name": "stdout",
     "output_type": "stream",
     "text": [
      "Tests Passed\n"
     ]
    }
   ],
   "source": [
    "#from sklearn import preprocessing\n",
    "# I tried to use sklearn's laberl binariser, but it gave different results for different set of labels\n",
    "\n",
    "def one_hot_encode(x):\n",
    "    \"\"\"\n",
    "    One hot encode a list of sample labels. Return a one-hot encoded vector for each label.\n",
    "    : x: List of sample Labels\n",
    "    : return: Numpy array of one-hot encoded labels\n",
    "    \"\"\"\n",
    "    # TODO: Implement Function\n",
    "    a = np.zeros([len(x), 10])    \n",
    "    for idx, val in enumerate(x):\n",
    "        a[idx][val] = 1\n",
    "    return a\n",
    "\n",
    "\"\"\"\n",
    "DON'T MODIFY ANYTHING IN THIS CELL THAT IS BELOW THIS LINE\n",
    "\"\"\"\n",
    "tests.test_one_hot_encode(one_hot_encode)"
   ]
  },
  {
   "cell_type": "markdown",
   "metadata": {
    "deletable": true,
    "editable": true
   },
   "source": [
    "### Randomize Data\n",
    "As you saw from exploring the data above, the order of the samples are randomized.  It doesn't hurt to randomize it again, but you don't need to for this dataset."
   ]
  },
  {
   "cell_type": "markdown",
   "metadata": {
    "deletable": true,
    "editable": true
   },
   "source": [
    "## Preprocess all the data and save it\n",
    "Running the code cell below will preprocess all the CIFAR-10 data and save it to file. The code below also uses 10% of the training data for validation."
   ]
  },
  {
   "cell_type": "code",
   "execution_count": 39,
   "metadata": {
    "collapsed": false,
    "deletable": true,
    "editable": true
   },
   "outputs": [],
   "source": [
    "\"\"\"\n",
    "DON'T MODIFY ANYTHING IN THIS CELL\n",
    "\"\"\"\n",
    "# Preprocess Training, Validation, and Testing Data\n",
    "helper.preprocess_and_save_data(cifar10_dataset_folder_path, normalize, one_hot_encode)"
   ]
  },
  {
   "cell_type": "markdown",
   "metadata": {
    "deletable": true,
    "editable": true
   },
   "source": [
    "# Check Point\n",
    "This is your first checkpoint.  If you ever decide to come back to this notebook or have to restart the notebook, you can start from here.  The preprocessed data has been saved to disk."
   ]
  },
  {
   "cell_type": "code",
   "execution_count": 1,
   "metadata": {
    "collapsed": true,
    "deletable": true,
    "editable": true
   },
   "outputs": [],
   "source": [
    "\"\"\"\n",
    "DON'T MODIFY ANYTHING IN THIS CELL\n",
    "\"\"\"\n",
    "import pickle\n",
    "import problem_unittests as tests\n",
    "import helper\n",
    "\n",
    "# Load the Preprocessed Validation data\n",
    "valid_features, valid_labels = pickle.load(open('preprocess_validation.p', mode='rb'))"
   ]
  },
  {
   "cell_type": "markdown",
   "metadata": {
    "deletable": true,
    "editable": true
   },
   "source": [
    "## Build the network\n",
    "For the neural network, you'll build each layer into a function.  Most of the code you've seen has been outside of functions. To test your code more thoroughly, we require that you put each layer in a function.  This allows us to give you better feedback and test for simple mistakes using our unittests before you submit your project.\n",
    "\n",
    ">**Note:** If you're finding it hard to dedicate enough time for this course each week, we've provided a small shortcut to this part of the project. In the next couple of problems, you'll have the option to use classes from the [TensorFlow Layers](https://www.tensorflow.org/api_docs/python/tf/layers) or [TensorFlow Layers (contrib)](https://www.tensorflow.org/api_guides/python/contrib.layers) packages to build each layer, except the layers you build in the \"Convolutional and Max Pooling Layer\" section.  TF Layers is similar to Keras's and TFLearn's abstraction to layers, so it's easy to pickup.\n",
    "\n",
    ">However, if you would like to get the most out of this course, try to solve all the problems _without_ using anything from the TF Layers packages. You **can** still use classes from other packages that happen to have the same name as ones you find in TF Layers! For example, instead of using the TF Layers version of the `conv2d` class, [tf.layers.conv2d](https://www.tensorflow.org/api_docs/python/tf/layers/conv2d), you would want to use the TF Neural Network version of `conv2d`, [tf.nn.conv2d](https://www.tensorflow.org/api_docs/python/tf/nn/conv2d). \n",
    "\n",
    "Let's begin!\n",
    "\n",
    "### Input\n",
    "The neural network needs to read the image data, one-hot encoded labels, and dropout keep probability. Implement the following functions\n",
    "* Implement `neural_net_image_input`\n",
    " * Return a [TF Placeholder](https://www.tensorflow.org/api_docs/python/tf/placeholder)\n",
    " * Set the shape using `image_shape` with batch size set to `None`.\n",
    " * Name the TensorFlow placeholder \"x\" using the TensorFlow `name` parameter in the [TF Placeholder](https://www.tensorflow.org/api_docs/python/tf/placeholder).\n",
    "* Implement `neural_net_label_input`\n",
    " * Return a [TF Placeholder](https://www.tensorflow.org/api_docs/python/tf/placeholder)\n",
    " * Set the shape using `n_classes` with batch size set to `None`.\n",
    " * Name the TensorFlow placeholder \"y\" using the TensorFlow `name` parameter in the [TF Placeholder](https://www.tensorflow.org/api_docs/python/tf/placeholder).\n",
    "* Implement `neural_net_keep_prob_input`\n",
    " * Return a [TF Placeholder](https://www.tensorflow.org/api_docs/python/tf/placeholder) for dropout keep probability.\n",
    " * Name the TensorFlow placeholder \"keep_prob\" using the TensorFlow `name` parameter in the [TF Placeholder](https://www.tensorflow.org/api_docs/python/tf/placeholder).\n",
    "\n",
    "These names will be used at the end of the project to load your saved model.\n",
    "\n",
    "Note: `None` for shapes in TensorFlow allow for a dynamic size."
   ]
  },
  {
   "cell_type": "code",
   "execution_count": 2,
   "metadata": {
    "collapsed": false,
    "deletable": true,
    "editable": true
   },
   "outputs": [
    {
     "name": "stdout",
     "output_type": "stream",
     "text": [
      "Image Input Tests Passed.\n",
      "Label Input Tests Passed.\n",
      "Keep Prob Tests Passed.\n"
     ]
    }
   ],
   "source": [
    "import tensorflow as tf\n",
    "\n",
    "def neural_net_image_input(image_shape):\n",
    "    \"\"\"\n",
    "    Return a Tensor for a batch of image input\n",
    "    : image_shape: Shape of the images\n",
    "    : return: Tensor for image input.\n",
    "    \"\"\"\n",
    "    # TODO: Implement Function\n",
    "    return tf.placeholder(tf.float32, [None, *image_shape], \"x\")\n",
    "\n",
    "\n",
    "def neural_net_label_input(n_classes):\n",
    "    \"\"\"\n",
    "    Return a Tensor for a batch of label input\n",
    "    : n_classes: Number of classes\n",
    "    : return: Tensor for label input.\n",
    "    \"\"\"\n",
    "    # TODO: Implement Function\n",
    "    return tf.placeholder(tf.float32, [None, n_classes], \"y\")\n",
    "\n",
    "\n",
    "\n",
    "def neural_net_keep_prob_input():\n",
    "    \"\"\"\n",
    "    Return a Tensor for keep probability\n",
    "    : return: Tensor for keep probability.\n",
    "    \"\"\"\n",
    "    # TODO: Implement Function\n",
    "    return tf.placeholder(tf.float32, name=\"keep_prob\")\n",
    "\n",
    "\n",
    "\"\"\"\n",
    "DON'T MODIFY ANYTHING IN THIS CELL THAT IS BELOW THIS LINE\n",
    "\"\"\"\n",
    "tf.reset_default_graph()\n",
    "tests.test_nn_image_inputs(neural_net_image_input)\n",
    "tests.test_nn_label_inputs(neural_net_label_input)\n",
    "tests.test_nn_keep_prob_inputs(neural_net_keep_prob_input)"
   ]
  },
  {
   "cell_type": "markdown",
   "metadata": {
    "deletable": true,
    "editable": true
   },
   "source": [
    "### Convolution and Max Pooling Layer\n",
    "Convolution layers have a lot of success with images. For this code cell, you should implement the function `conv2d_maxpool` to apply convolution then max pooling:\n",
    "* Create the weight and bias using `conv_ksize`, `conv_num_outputs` and the shape of `x_tensor`.\n",
    "* Apply a convolution to `x_tensor` using weight and `conv_strides`.\n",
    " * We recommend you use same padding, but you're welcome to use any padding.\n",
    "* Add bias\n",
    "* Add a nonlinear activation to the convolution.\n",
    "* Apply Max Pooling using `pool_ksize` and `pool_strides`.\n",
    " * We recommend you use same padding, but you're welcome to use any padding.\n",
    "\n",
    "**Note:** You **can't** use [TensorFlow Layers](https://www.tensorflow.org/api_docs/python/tf/layers) or [TensorFlow Layers (contrib)](https://www.tensorflow.org/api_guides/python/contrib.layers) for **this** layer, but you can still use TensorFlow's [Neural Network](https://www.tensorflow.org/api_docs/python/tf/nn) package. You may still use the shortcut option for all the **other** layers."
   ]
  },
  {
   "cell_type": "code",
   "execution_count": 83,
   "metadata": {
    "collapsed": false,
    "deletable": true,
    "editable": true
   },
   "outputs": [
    {
     "name": "stdout",
     "output_type": "stream",
     "text": [
      "Tests Passed\n"
     ]
    }
   ],
   "source": [
    "stddev = 0.02\n",
    "mean = 0.001\n",
    "\n",
    "def conv2d_maxpool(x_tensor, conv_num_outputs, conv_ksize, conv_strides, pool_ksize, pool_strides):\n",
    "    \"\"\"\n",
    "    Apply convolution then max pooling to x_tensor\n",
    "    :param x_tensor: TensorFlow Tensor\n",
    "    :param conv_num_outputs: Number of outputs for the convolutional layer\n",
    "    :param conv_ksize: kernal size 2-D Tuple for the convolutional layer\n",
    "    :param conv_strides: Stride 2-D Tuple for convolution\n",
    "    :param pool_ksize: kernal size 2-D Tuple for pool\n",
    "    :param pool_strides: Stride 2-D Tuple for pool\n",
    "    : return: A tensor that represents convolution and max pooling of x_tensor\n",
    "    \"\"\"\n",
    "\n",
    "    weight_shape = [*conv_ksize, x_tensor.get_shape().as_list()[3], conv_num_outputs]\n",
    "    weights = tf.Variable(tf.truncated_normal(weight_shape, stddev=stddev, mean=mean))\n",
    "    biases = tf.Variable(tf.constant([mean] * conv_num_outputs))\n",
    "    padding = 'SAME'\n",
    "    \n",
    "    x_tensor = tf.nn.conv2d(x_tensor, weights, [1, *conv_strides, 1], padding)\n",
    "    x_tensor = tf.nn.bias_add(x_tensor, biases)\n",
    "    x_tensor = tf.nn.relu(x_tensor)\n",
    "    x_tensor = tf.nn.max_pool(x_tensor, [1, *pool_ksize, 1],  [1, *pool_strides, 1], padding)\n",
    "\n",
    "    return x_tensor\n",
    "\n",
    "\"\"\"\n",
    "DON'T MODIFY ANYTHING IN THIS CELL THAT IS BELOW THIS LINE\n",
    "\"\"\"\n",
    "tests.test_con_pool(conv2d_maxpool)"
   ]
  },
  {
   "cell_type": "markdown",
   "metadata": {
    "deletable": true,
    "editable": true
   },
   "source": [
    "### Flatten Layer\n",
    "Implement the `flatten` function to change the dimension of `x_tensor` from a 4-D tensor to a 2-D tensor.  The output should be the shape (*Batch Size*, *Flattened Image Size*). Shortcut option: you can use classes from the [TensorFlow Layers](https://www.tensorflow.org/api_docs/python/tf/layers) or [TensorFlow Layers (contrib)](https://www.tensorflow.org/api_guides/python/contrib.layers) packages for this layer. For more of a challenge, only use other TensorFlow packages."
   ]
  },
  {
   "cell_type": "code",
   "execution_count": 84,
   "metadata": {
    "collapsed": false,
    "deletable": true,
    "editable": true
   },
   "outputs": [
    {
     "name": "stdout",
     "output_type": "stream",
     "text": [
      "Tests Passed\n"
     ]
    }
   ],
   "source": [
    "def flatten(x_tensor):\n",
    "    \"\"\"\n",
    "    Flatten x_tensor to (Batch Size, Flattened Image Size)\n",
    "    : x_tensor: A tensor of size (Batch Size, ...), where ... are the image dimensions.\n",
    "    : return: A tensor of size (Batch Size, Flattened Image Size).\n",
    "    \"\"\"\n",
    "    # TODO: Implement Function\n",
    "    shape = x_tensor.get_shape().as_list()\n",
    "    return tf.reshape(x_tensor, [tf.shape(x_tensor)[0], shape[1] * shape[2] * shape[3]])\n",
    "\n",
    "\n",
    "\"\"\"\n",
    "DON'T MODIFY ANYTHING IN THIS CELL THAT IS BELOW THIS LINE\n",
    "\"\"\"\n",
    "tests.test_flatten(flatten)"
   ]
  },
  {
   "cell_type": "markdown",
   "metadata": {
    "deletable": true,
    "editable": true
   },
   "source": [
    "### Fully-Connected Layer\n",
    "Implement the `fully_conn` function to apply a fully connected layer to `x_tensor` with the shape (*Batch Size*, *num_outputs*). Shortcut option: you can use classes from the [TensorFlow Layers](https://www.tensorflow.org/api_docs/python/tf/layers) or [TensorFlow Layers (contrib)](https://www.tensorflow.org/api_guides/python/contrib.layers) packages for this layer. For more of a challenge, only use other TensorFlow packages."
   ]
  },
  {
   "cell_type": "code",
   "execution_count": 85,
   "metadata": {
    "collapsed": false,
    "deletable": true,
    "editable": true
   },
   "outputs": [
    {
     "name": "stdout",
     "output_type": "stream",
     "text": [
      "Tests Passed\n"
     ]
    }
   ],
   "source": [
    "def fully_conn(x_tensor, num_outputs):\n",
    "    \"\"\"\n",
    "    Apply a fully connected layer to x_tensor using weight and bias\n",
    "    : x_tensor: A 2-D tensor where the first dimension is batch size.\n",
    "    : num_outputs: The number of output that the new tensor should be.\n",
    "    : return: A 2-D tensor where the second dimension is num_outputs.\n",
    "    \"\"\"\n",
    "    # TODO: Implement Function\n",
    "    num_inputs = x_tensor.get_shape().as_list()[1]\n",
    "    weights = tf.Variable(tf.truncated_normal([num_inputs, num_outputs], stddev=stddev, mean=mean))\n",
    "    biases = tf.Variable(tf.constant([mean] * num_outputs))\n",
    "    x_tensor = tf.matmul(x_tensor, weights)\n",
    "    x_tensor = tf.nn.bias_add(x_tensor, biases)\n",
    "    x_tensor = tf.nn.relu(x_tensor)\n",
    "    \n",
    "    return x_tensor\n",
    "\n",
    "\n",
    "\"\"\"\n",
    "DON'T MODIFY ANYTHING IN THIS CELL THAT IS BELOW THIS LINE\n",
    "\"\"\"\n",
    "tests.test_fully_conn(fully_conn)"
   ]
  },
  {
   "cell_type": "markdown",
   "metadata": {
    "deletable": true,
    "editable": true
   },
   "source": [
    "### Output Layer\n",
    "Implement the `output` function to apply a fully connected layer to `x_tensor` with the shape (*Batch Size*, *num_outputs*). Shortcut option: you can use classes from the [TensorFlow Layers](https://www.tensorflow.org/api_docs/python/tf/layers) or [TensorFlow Layers (contrib)](https://www.tensorflow.org/api_guides/python/contrib.layers) packages for this layer. For more of a challenge, only use other TensorFlow packages.\n",
    "\n",
    "**Note:** Activation, softmax, or cross entropy should **not** be applied to this."
   ]
  },
  {
   "cell_type": "code",
   "execution_count": 86,
   "metadata": {
    "collapsed": false,
    "deletable": true,
    "editable": true
   },
   "outputs": [
    {
     "name": "stdout",
     "output_type": "stream",
     "text": [
      "Tests Passed\n"
     ]
    }
   ],
   "source": [
    "def output(x_tensor, num_outputs):\n",
    "    \"\"\"\n",
    "    Apply a output layer to x_tensor using weight and bias\n",
    "    : x_tensor: A 2-D tensor where the first dimension is batch size.\n",
    "    : num_outputs: The number of output that the new tensor should be.\n",
    "    : return: A 2-D tensor where the second dimension is num_outputs.\n",
    "    \"\"\"\n",
    "    # TODO: Implement Function\n",
    "    num_inputs = x_tensor.get_shape().as_list()[1]\n",
    "    weights = tf.Variable(tf.truncated_normal([num_inputs, num_outputs], stddev=stddev, mean=mean))\n",
    "    biases = tf.Variable(tf.constant([mean] * num_outputs))\n",
    "    x_tensor = tf.matmul(x_tensor, weights)\n",
    "    x_tensor = tf.nn.bias_add(x_tensor, biases)\n",
    "    \n",
    "    return x_tensor\n",
    "\n",
    "\"\"\"\n",
    "DON'T MODIFY ANYTHING IN THIS CELL THAT IS BELOW THIS LINE\n",
    "\"\"\"\n",
    "tests.test_output(output)"
   ]
  },
  {
   "cell_type": "markdown",
   "metadata": {
    "deletable": true,
    "editable": true
   },
   "source": [
    "### Create Convolutional Model\n",
    "Implement the function `conv_net` to create a convolutional neural network model. The function takes in a batch of images, `x`, and outputs logits.  Use the layers you created above to create this model:\n",
    "\n",
    "* Apply 1, 2, or 3 Convolution and Max Pool layers\n",
    "* Apply a Flatten Layer\n",
    "* Apply 1, 2, or 3 Fully Connected Layers\n",
    "* Apply an Output Layer\n",
    "* Return the output\n",
    "* Apply [TensorFlow's Dropout](https://www.tensorflow.org/api_docs/python/tf/nn/dropout) to one or more layers in the model using `keep_prob`. "
   ]
  },
  {
   "cell_type": "code",
   "execution_count": 87,
   "metadata": {
    "collapsed": false,
    "deletable": true,
    "editable": true
   },
   "outputs": [
    {
     "name": "stdout",
     "output_type": "stream",
     "text": [
      "Neural Network Built!\n"
     ]
    }
   ],
   "source": [
    "def conv_net(x, keep_prob):\n",
    "    \"\"\"\n",
    "    Create a convolutional neural network model\n",
    "    : x: Placeholder tensor that holds image data.\n",
    "    : keep_prob: Placeholder tensor that hold dropout keep probability.\n",
    "    : return: Tensor that represents logits\n",
    "    \"\"\"\n",
    "    # TODO: Apply 1, 2, or 3 Convolution and Max Pool layers\n",
    "    #    Play around with different number of outputs, kernel size and stride\n",
    "    # Function Definition from Above:\n",
    "    #    conv2d_maxpool(x_tensor, conv_num_outputs, conv_ksize, conv_strides, pool_ksize, pool_strides)\n",
    "    \n",
    "    patch_size = [5, 5]\n",
    "    patch_stride = [1, 1]\n",
    "    \n",
    "    non_pool_size = [1, 1]\n",
    "    non_pool_stride = [1, 1]\n",
    "    \n",
    "    pool_size = [3, 3]\n",
    "    pool_stride = [2, 2]\n",
    "    \n",
    "    net = conv2d_maxpool(x, 96, patch_size, patch_stride, pool_size, pool_stride)\n",
    "    #net = conv2d_maxpool(x, 64, patch_size, patch_stride, non_pool_size, non_pool_stride)\n",
    "    #net = conv2d_maxpool(x, 64, patch_size, patch_stride, pool_size, pool_stride)\n",
    "\n",
    "    net = flatten(net)\n",
    "    \n",
    "    net = fully_conn(net, 512)\n",
    "    net = tf.nn.dropout(net, keep_prob)\n",
    "    #net = fully_conn(net, 256)\n",
    "    #net = tf.nn.dropout(net, keep_prob)\n",
    "    #net = fully_conn(net, 128)\n",
    "    #net = tf.nn.dropout(net, keep_prob)\n",
    "    \n",
    "    net = output(net, 10)\n",
    "    return net\n",
    "\n",
    "\n",
    "\"\"\"\n",
    "DON'T MODIFY ANYTHING IN THIS CELL THAT IS BELOW THIS LINE\n",
    "\"\"\"\n",
    "\n",
    "##############################\n",
    "## Build the Neural Network ##\n",
    "##############################\n",
    "\n",
    "# Remove previous weights, bias, inputs, etc..\n",
    "tf.reset_default_graph()\n",
    "\n",
    "# Inputs\n",
    "x = neural_net_image_input((32, 32, 3))\n",
    "y = neural_net_label_input(10)\n",
    "keep_prob = neural_net_keep_prob_input()\n",
    "\n",
    "# Model\n",
    "logits = conv_net(x, keep_prob)\n",
    "\n",
    "# Name logits Tensor, so that is can be loaded from disk after training\n",
    "logits = tf.identity(logits, name='logits')\n",
    "\n",
    "# Loss and Optimizer\n",
    "cost = tf.reduce_mean(tf.nn.softmax_cross_entropy_with_logits(logits=logits, labels=y))\n",
    "optimizer = tf.train.AdamOptimizer().minimize(cost)\n",
    "\n",
    "# Accuracy\n",
    "correct_pred = tf.equal(tf.argmax(logits, 1), tf.argmax(y, 1))\n",
    "accuracy = tf.reduce_mean(tf.cast(correct_pred, tf.float32), name='accuracy')\n",
    "\n",
    "tests.test_conv_net(conv_net)"
   ]
  },
  {
   "cell_type": "markdown",
   "metadata": {
    "deletable": true,
    "editable": true
   },
   "source": [
    "## Train the Neural Network\n",
    "### Single Optimization\n",
    "Implement the function `train_neural_network` to do a single optimization.  The optimization should use `optimizer` to optimize in `session` with a `feed_dict` of the following:\n",
    "* `x` for image input\n",
    "* `y` for labels\n",
    "* `keep_prob` for keep probability for dropout\n",
    "\n",
    "This function will be called for each batch, so `tf.global_variables_initializer()` has already been called.\n",
    "\n",
    "Note: Nothing needs to be returned. This function is only optimizing the neural network."
   ]
  },
  {
   "cell_type": "code",
   "execution_count": 88,
   "metadata": {
    "collapsed": false,
    "deletable": true,
    "editable": true
   },
   "outputs": [
    {
     "name": "stdout",
     "output_type": "stream",
     "text": [
      "Tests Passed\n"
     ]
    }
   ],
   "source": [
    "def train_neural_network(session, optimizer, keep_probability, feature_batch, label_batch):\n",
    "    \"\"\"\n",
    "    Optimize the session on a batch of images and labels\n",
    "    : session: Current TensorFlow session\n",
    "    : optimizer: TensorFlow optimizer function\n",
    "    : keep_probability: keep probability\n",
    "    : feature_batch: Batch of Numpy image data\n",
    "    : label_batch: Batch of Numpy label data\n",
    "    \"\"\"\n",
    "    # TODO: Implement Function\n",
    "    session.run(optimizer, feed_dict={\n",
    "                x: feature_batch,\n",
    "                y: label_batch,\n",
    "                keep_prob: keep_probability})\n",
    "        \n",
    "\n",
    "\n",
    "\"\"\"\n",
    "DON'T MODIFY ANYTHING IN THIS CELL THAT IS BELOW THIS LINE\n",
    "\"\"\"\n",
    "tests.test_train_nn(train_neural_network)"
   ]
  },
  {
   "cell_type": "markdown",
   "metadata": {
    "deletable": true,
    "editable": true
   },
   "source": [
    "### Show Stats\n",
    "Implement the function `print_stats` to print loss and validation accuracy.  Use the global variables `valid_features` and `valid_labels` to calculate validation accuracy.  Use a keep probability of `1.0` to calculate the loss and validation accuracy."
   ]
  },
  {
   "cell_type": "code",
   "execution_count": 89,
   "metadata": {
    "collapsed": false,
    "deletable": true,
    "editable": true
   },
   "outputs": [],
   "source": [
    "def print_stats(session, feature_batch, label_batch, cost, accuracy):\n",
    "    \"\"\"\n",
    "    Print information about loss and validation accuracy\n",
    "    : session: Current TensorFlow session\n",
    "    : feature_batch: Batch of Numpy image data\n",
    "    : label_batch: Batch of Numpy label data\n",
    "    : cost: TensorFlow cost function\n",
    "    : accuracy: TensorFlow accuracy function\n",
    "    \"\"\"\n",
    "    cost_val = session.run(cost, feed_dict={\n",
    "                x: feature_batch,\n",
    "                y: label_batch,\n",
    "                keep_prob: 1.0})\n",
    "    test_acc = session.run(accuracy, feed_dict={\n",
    "                x: feature_batch,\n",
    "                y: label_batch,\n",
    "                keep_prob: 1.0})\n",
    "    \n",
    "    val_acc = 0.0\n",
    "    val_cnt = 0\n",
    "    for val_feature_batch, val_label_batch in helper.batch_features_labels(valid_features, valid_labels, 1000):\n",
    "        val_acc += session.run(accuracy, feed_dict={\n",
    "                    x: val_feature_batch,\n",
    "                    y: val_label_batch,\n",
    "                    keep_prob: 1.0})\n",
    "        val_cnt += 1\n",
    "    val_acc /= val_cnt\n",
    "\n",
    "    print('Cost: {:.3f}, Test Acc: {:.5f}, Validation Acc: {:.5f}'.format(\n",
    "    cost_val,\n",
    "    test_acc, \n",
    "    val_acc))\n"
   ]
  },
  {
   "cell_type": "markdown",
   "metadata": {
    "deletable": true,
    "editable": true
   },
   "source": [
    "### Hyperparameters\n",
    "Tune the following parameters:\n",
    "* Set `epochs` to the number of iterations until the network stops learning or start overfitting\n",
    "* Set `batch_size` to the highest number that your machine has memory for.  Most people set them to common sizes of memory:\n",
    " * 64\n",
    " * 128\n",
    " * 256\n",
    " * ...\n",
    "* Set `keep_probability` to the probability of keeping a node using dropout"
   ]
  },
  {
   "cell_type": "code",
   "execution_count": 92,
   "metadata": {
    "collapsed": true,
    "deletable": true,
    "editable": true
   },
   "outputs": [],
   "source": [
    "# TODO: Tune Parameters\n",
    "epochs = 32\n",
    "batch_size = 256\n",
    "keep_probability = 0.33"
   ]
  },
  {
   "cell_type": "markdown",
   "metadata": {
    "deletable": true,
    "editable": true
   },
   "source": [
    "### Train on a Single CIFAR-10 Batch\n",
    "Instead of training the neural network on all the CIFAR-10 batches of data, let's use a single batch. This should save time while you iterate on the model to get a better accuracy.  Once the final validation accuracy is 50% or greater, run the model on all the data in the next section."
   ]
  },
  {
   "cell_type": "code",
   "execution_count": 93,
   "metadata": {
    "collapsed": false,
    "deletable": true,
    "editable": true
   },
   "outputs": [
    {
     "name": "stdout",
     "output_type": "stream",
     "text": [
      "Checking the Training on a Single Batch...\n",
      "Epoch  1, CIFAR-10 Batch 1:  Cost: 2.273, Test Acc: 0.15000, Validation Acc: 0.10700\n",
      "Epoch  2, CIFAR-10 Batch 1:  Cost: 2.226, Test Acc: 0.10000, Validation Acc: 0.19720\n",
      "Epoch  3, CIFAR-10 Batch 1:  Cost: 2.171, Test Acc: 0.15000, Validation Acc: 0.27400\n",
      "Epoch  4, CIFAR-10 Batch 1:  Cost: 2.074, Test Acc: 0.22500, Validation Acc: 0.36940\n",
      "Epoch  5, CIFAR-10 Batch 1:  Cost: 1.786, Test Acc: 0.37500, Validation Acc: 0.42340\n",
      "Epoch  6, CIFAR-10 Batch 1:  Cost: 1.555, Test Acc: 0.57500, Validation Acc: 0.44920\n",
      "Epoch  7, CIFAR-10 Batch 1:  Cost: 1.425, Test Acc: 0.50000, Validation Acc: 0.45020\n",
      "Epoch  8, CIFAR-10 Batch 1:  Cost: 1.297, Test Acc: 0.60000, Validation Acc: 0.47320\n",
      "Epoch  9, CIFAR-10 Batch 1:  Cost: 1.196, Test Acc: 0.72500, Validation Acc: 0.49280\n",
      "Epoch 10, CIFAR-10 Batch 1:  Cost: 1.091, Test Acc: 0.75000, Validation Acc: 0.49940\n",
      "Epoch 11, CIFAR-10 Batch 1:  Cost: 0.979, Test Acc: 0.77500, Validation Acc: 0.50560\n",
      "Epoch 12, CIFAR-10 Batch 1:  Cost: 0.915, Test Acc: 0.77500, Validation Acc: 0.51020\n",
      "Epoch 13, CIFAR-10 Batch 1:  Cost: 0.810, Test Acc: 0.77500, Validation Acc: 0.52260\n",
      "Epoch 14, CIFAR-10 Batch 1:  Cost: 0.743, Test Acc: 0.77500, Validation Acc: 0.53080\n",
      "Epoch 15, CIFAR-10 Batch 1:  Cost: 0.611, Test Acc: 0.82500, Validation Acc: 0.53840\n",
      "Epoch 16, CIFAR-10 Batch 1:  Cost: 0.531, Test Acc: 0.85000, Validation Acc: 0.53800\n",
      "Epoch 17, CIFAR-10 Batch 1:  Cost: 0.463, Test Acc: 0.87500, Validation Acc: 0.54200\n",
      "Epoch 18, CIFAR-10 Batch 1:  Cost: 0.394, Test Acc: 0.90000, Validation Acc: 0.54580\n",
      "Epoch 19, CIFAR-10 Batch 1:  Cost: 0.341, Test Acc: 0.95000, Validation Acc: 0.55260\n",
      "Epoch 20, CIFAR-10 Batch 1:  Cost: 0.299, Test Acc: 0.97500, Validation Acc: 0.55360\n",
      "Epoch 21, CIFAR-10 Batch 1:  Cost: 0.266, Test Acc: 0.95000, Validation Acc: 0.55900\n",
      "Epoch 22, CIFAR-10 Batch 1:  Cost: 0.215, Test Acc: 0.97500, Validation Acc: 0.56540\n",
      "Epoch 23, CIFAR-10 Batch 1:  Cost: 0.197, Test Acc: 0.97500, Validation Acc: 0.56260\n",
      "Epoch 24, CIFAR-10 Batch 1:  Cost: 0.184, Test Acc: 0.97500, Validation Acc: 0.55980\n",
      "Epoch 25, CIFAR-10 Batch 1:  Cost: 0.155, Test Acc: 1.00000, Validation Acc: 0.55420\n",
      "Epoch 26, CIFAR-10 Batch 1:  Cost: 0.130, Test Acc: 0.97500, Validation Acc: 0.57000\n",
      "Epoch 27, CIFAR-10 Batch 1:  Cost: 0.129, Test Acc: 1.00000, Validation Acc: 0.55620\n",
      "Epoch 28, CIFAR-10 Batch 1:  Cost: 0.093, Test Acc: 1.00000, Validation Acc: 0.56780\n",
      "Epoch 29, CIFAR-10 Batch 1:  Cost: 0.088, Test Acc: 1.00000, Validation Acc: 0.56920\n",
      "Epoch 30, CIFAR-10 Batch 1:  Cost: 0.079, Test Acc: 1.00000, Validation Acc: 0.56780\n",
      "Epoch 31, CIFAR-10 Batch 1:  Cost: 0.064, Test Acc: 1.00000, Validation Acc: 0.56800\n",
      "Epoch 32, CIFAR-10 Batch 1:  Cost: 0.064, Test Acc: 1.00000, Validation Acc: 0.56960\n"
     ]
    }
   ],
   "source": [
    "\"\"\"\n",
    "DON'T MODIFY ANYTHING IN THIS CELL\n",
    "\"\"\"\n",
    "print('Checking the Training on a Single Batch...')\n",
    "with tf.Session() as sess:\n",
    "    # Initializing the variables\n",
    "    sess.run(tf.global_variables_initializer())\n",
    "    \n",
    "    # Training cycle\n",
    "    for epoch in range(epochs):\n",
    "        batch_i = 1\n",
    "        for batch_features, batch_labels in helper.load_preprocess_training_batch(batch_i, batch_size):\n",
    "            train_neural_network(sess, optimizer, keep_probability, batch_features, batch_labels)\n",
    "        print('Epoch {:>2}, CIFAR-10 Batch {}:  '.format(epoch + 1, batch_i), end='')\n",
    "        print_stats(sess, batch_features, batch_labels, cost, accuracy)"
   ]
  },
  {
   "cell_type": "markdown",
   "metadata": {
    "deletable": true,
    "editable": true
   },
   "source": [
    "### Fully Train the Model\n",
    "Now that you got a good accuracy with a single CIFAR-10 batch, try it with all five batches."
   ]
  },
  {
   "cell_type": "code",
   "execution_count": 94,
   "metadata": {
    "collapsed": false,
    "deletable": true,
    "editable": true
   },
   "outputs": [
    {
     "name": "stdout",
     "output_type": "stream",
     "text": [
      "Training...\n",
      "Epoch  1, CIFAR-10 Batch 1:  Cost: 2.228, Test Acc: 0.12500, Validation Acc: 0.23280\n",
      "Epoch  1, CIFAR-10 Batch 2:  Cost: 1.969, Test Acc: 0.32500, Validation Acc: 0.29560\n",
      "Epoch  1, CIFAR-10 Batch 3:  Cost: 1.728, Test Acc: 0.35000, Validation Acc: 0.34500\n",
      "Epoch  1, CIFAR-10 Batch 4:  Cost: 1.715, Test Acc: 0.32500, Validation Acc: 0.39460\n",
      "Epoch  1, CIFAR-10 Batch 5:  Cost: 1.687, Test Acc: 0.37500, Validation Acc: 0.43160\n",
      "Epoch  2, CIFAR-10 Batch 1:  Cost: 1.929, Test Acc: 0.30000, Validation Acc: 0.42880\n",
      "Epoch  2, CIFAR-10 Batch 2:  Cost: 1.512, Test Acc: 0.42500, Validation Acc: 0.46100\n",
      "Epoch  2, CIFAR-10 Batch 3:  Cost: 1.337, Test Acc: 0.57500, Validation Acc: 0.44840\n",
      "Epoch  2, CIFAR-10 Batch 4:  Cost: 1.385, Test Acc: 0.55000, Validation Acc: 0.48460\n",
      "Epoch  2, CIFAR-10 Batch 5:  Cost: 1.460, Test Acc: 0.42500, Validation Acc: 0.50240\n",
      "Epoch  3, CIFAR-10 Batch 1:  Cost: 1.571, Test Acc: 0.40000, Validation Acc: 0.49560\n",
      "Epoch  3, CIFAR-10 Batch 2:  Cost: 1.282, Test Acc: 0.52500, Validation Acc: 0.50580\n",
      "Epoch  3, CIFAR-10 Batch 3:  Cost: 1.087, Test Acc: 0.60000, Validation Acc: 0.51240\n",
      "Epoch  3, CIFAR-10 Batch 4:  Cost: 1.252, Test Acc: 0.57500, Validation Acc: 0.52780\n",
      "Epoch  3, CIFAR-10 Batch 5:  Cost: 1.281, Test Acc: 0.47500, Validation Acc: 0.53680\n",
      "Epoch  4, CIFAR-10 Batch 1:  Cost: 1.364, Test Acc: 0.55000, Validation Acc: 0.53040\n",
      "Epoch  4, CIFAR-10 Batch 2:  Cost: 1.125, Test Acc: 0.60000, Validation Acc: 0.53120\n",
      "Epoch  4, CIFAR-10 Batch 3:  Cost: 0.947, Test Acc: 0.65000, Validation Acc: 0.54720\n",
      "Epoch  4, CIFAR-10 Batch 4:  Cost: 1.099, Test Acc: 0.65000, Validation Acc: 0.56120\n",
      "Epoch  4, CIFAR-10 Batch 5:  Cost: 1.082, Test Acc: 0.67500, Validation Acc: 0.56260\n",
      "Epoch  5, CIFAR-10 Batch 1:  Cost: 1.189, Test Acc: 0.62500, Validation Acc: 0.55400\n",
      "Epoch  5, CIFAR-10 Batch 2:  Cost: 0.973, Test Acc: 0.67500, Validation Acc: 0.56920\n",
      "Epoch  5, CIFAR-10 Batch 3:  Cost: 0.869, Test Acc: 0.67500, Validation Acc: 0.56940\n",
      "Epoch  5, CIFAR-10 Batch 4:  Cost: 0.994, Test Acc: 0.65000, Validation Acc: 0.57880\n",
      "Epoch  5, CIFAR-10 Batch 5:  Cost: 0.932, Test Acc: 0.77500, Validation Acc: 0.57800\n",
      "Epoch  6, CIFAR-10 Batch 1:  Cost: 1.039, Test Acc: 0.67500, Validation Acc: 0.58600\n",
      "Epoch  6, CIFAR-10 Batch 2:  Cost: 0.812, Test Acc: 0.65000, Validation Acc: 0.59020\n",
      "Epoch  6, CIFAR-10 Batch 3:  Cost: 0.679, Test Acc: 0.75000, Validation Acc: 0.59560\n",
      "Epoch  6, CIFAR-10 Batch 4:  Cost: 0.821, Test Acc: 0.70000, Validation Acc: 0.61060\n",
      "Epoch  6, CIFAR-10 Batch 5:  Cost: 0.765, Test Acc: 0.82500, Validation Acc: 0.59620\n",
      "Epoch  7, CIFAR-10 Batch 1:  Cost: 0.844, Test Acc: 0.70000, Validation Acc: 0.60300\n",
      "Epoch  7, CIFAR-10 Batch 2:  Cost: 0.686, Test Acc: 0.77500, Validation Acc: 0.61520\n",
      "Epoch  7, CIFAR-10 Batch 3:  Cost: 0.566, Test Acc: 0.82500, Validation Acc: 0.61820\n",
      "Epoch  7, CIFAR-10 Batch 4:  Cost: 0.672, Test Acc: 0.77500, Validation Acc: 0.62160\n",
      "Epoch  7, CIFAR-10 Batch 5:  Cost: 0.621, Test Acc: 0.90000, Validation Acc: 0.61600\n",
      "Epoch  8, CIFAR-10 Batch 1:  Cost: 0.722, Test Acc: 0.75000, Validation Acc: 0.61900\n",
      "Epoch  8, CIFAR-10 Batch 2:  Cost: 0.594, Test Acc: 0.82500, Validation Acc: 0.62440\n",
      "Epoch  8, CIFAR-10 Batch 3:  Cost: 0.453, Test Acc: 0.85000, Validation Acc: 0.62540\n",
      "Epoch  8, CIFAR-10 Batch 4:  Cost: 0.546, Test Acc: 0.85000, Validation Acc: 0.63780\n",
      "Epoch  8, CIFAR-10 Batch 5:  Cost: 0.505, Test Acc: 0.90000, Validation Acc: 0.63640\n",
      "Epoch  9, CIFAR-10 Batch 1:  Cost: 0.595, Test Acc: 0.77500, Validation Acc: 0.63540\n",
      "Epoch  9, CIFAR-10 Batch 2:  Cost: 0.487, Test Acc: 0.87500, Validation Acc: 0.64020\n",
      "Epoch  9, CIFAR-10 Batch 3:  Cost: 0.383, Test Acc: 0.90000, Validation Acc: 0.63780\n",
      "Epoch  9, CIFAR-10 Batch 4:  Cost: 0.428, Test Acc: 0.95000, Validation Acc: 0.64120\n",
      "Epoch  9, CIFAR-10 Batch 5:  Cost: 0.438, Test Acc: 0.92500, Validation Acc: 0.64420\n",
      "Epoch 10, CIFAR-10 Batch 1:  Cost: 0.508, Test Acc: 0.80000, Validation Acc: 0.63440\n",
      "Epoch 10, CIFAR-10 Batch 2:  Cost: 0.432, Test Acc: 0.90000, Validation Acc: 0.64620\n",
      "Epoch 10, CIFAR-10 Batch 3:  Cost: 0.327, Test Acc: 0.95000, Validation Acc: 0.64800\n",
      "Epoch 10, CIFAR-10 Batch 4:  Cost: 0.396, Test Acc: 0.95000, Validation Acc: 0.63700\n",
      "Epoch 10, CIFAR-10 Batch 5:  Cost: 0.361, Test Acc: 0.95000, Validation Acc: 0.64820\n",
      "Epoch 11, CIFAR-10 Batch 1:  Cost: 0.460, Test Acc: 0.80000, Validation Acc: 0.63520\n",
      "Epoch 11, CIFAR-10 Batch 2:  Cost: 0.337, Test Acc: 0.95000, Validation Acc: 0.65160\n",
      "Epoch 11, CIFAR-10 Batch 3:  Cost: 0.256, Test Acc: 1.00000, Validation Acc: 0.65060\n",
      "Epoch 11, CIFAR-10 Batch 4:  Cost: 0.318, Test Acc: 0.95000, Validation Acc: 0.65360\n",
      "Epoch 11, CIFAR-10 Batch 5:  Cost: 0.316, Test Acc: 0.95000, Validation Acc: 0.64980\n",
      "Epoch 12, CIFAR-10 Batch 1:  Cost: 0.441, Test Acc: 0.82500, Validation Acc: 0.63260\n",
      "Epoch 12, CIFAR-10 Batch 2:  Cost: 0.274, Test Acc: 0.97500, Validation Acc: 0.65680\n",
      "Epoch 12, CIFAR-10 Batch 3:  Cost: 0.221, Test Acc: 1.00000, Validation Acc: 0.66000\n",
      "Epoch 12, CIFAR-10 Batch 4:  Cost: 0.268, Test Acc: 0.95000, Validation Acc: 0.66160\n",
      "Epoch 12, CIFAR-10 Batch 5:  Cost: 0.253, Test Acc: 0.95000, Validation Acc: 0.65660\n",
      "Epoch 13, CIFAR-10 Batch 1:  Cost: 0.368, Test Acc: 0.87500, Validation Acc: 0.64800\n",
      "Epoch 13, CIFAR-10 Batch 2:  Cost: 0.241, Test Acc: 0.97500, Validation Acc: 0.66060\n",
      "Epoch 13, CIFAR-10 Batch 3:  Cost: 0.167, Test Acc: 1.00000, Validation Acc: 0.66600\n",
      "Epoch 13, CIFAR-10 Batch 4:  Cost: 0.185, Test Acc: 0.97500, Validation Acc: 0.66360\n",
      "Epoch 13, CIFAR-10 Batch 5:  Cost: 0.204, Test Acc: 0.97500, Validation Acc: 0.67040\n",
      "Epoch 14, CIFAR-10 Batch 1:  Cost: 0.316, Test Acc: 0.85000, Validation Acc: 0.65760\n",
      "Epoch 14, CIFAR-10 Batch 2:  Cost: 0.217, Test Acc: 0.97500, Validation Acc: 0.66200\n",
      "Epoch 14, CIFAR-10 Batch 3:  Cost: 0.144, Test Acc: 1.00000, Validation Acc: 0.66800\n",
      "Epoch 14, CIFAR-10 Batch 4:  Cost: 0.197, Test Acc: 0.97500, Validation Acc: 0.66400\n",
      "Epoch 14, CIFAR-10 Batch 5:  Cost: 0.196, Test Acc: 0.97500, Validation Acc: 0.65920\n",
      "Epoch 15, CIFAR-10 Batch 1:  Cost: 0.270, Test Acc: 0.90000, Validation Acc: 0.65020\n",
      "Epoch 15, CIFAR-10 Batch 2:  Cost: 0.219, Test Acc: 0.95000, Validation Acc: 0.65840\n",
      "Epoch 15, CIFAR-10 Batch 3:  Cost: 0.120, Test Acc: 1.00000, Validation Acc: 0.65980\n",
      "Epoch 15, CIFAR-10 Batch 4:  Cost: 0.143, Test Acc: 1.00000, Validation Acc: 0.66900\n",
      "Epoch 15, CIFAR-10 Batch 5:  Cost: 0.162, Test Acc: 0.95000, Validation Acc: 0.67380\n",
      "Epoch 16, CIFAR-10 Batch 1:  Cost: 0.238, Test Acc: 0.97500, Validation Acc: 0.64560\n",
      "Epoch 16, CIFAR-10 Batch 2:  Cost: 0.190, Test Acc: 0.97500, Validation Acc: 0.66240\n",
      "Epoch 16, CIFAR-10 Batch 3:  Cost: 0.105, Test Acc: 1.00000, Validation Acc: 0.66860\n",
      "Epoch 16, CIFAR-10 Batch 4:  Cost: 0.123, Test Acc: 1.00000, Validation Acc: 0.67400\n",
      "Epoch 16, CIFAR-10 Batch 5:  Cost: 0.143, Test Acc: 1.00000, Validation Acc: 0.67160\n",
      "Epoch 17, CIFAR-10 Batch 1:  Cost: 0.173, Test Acc: 0.97500, Validation Acc: 0.65960\n",
      "Epoch 17, CIFAR-10 Batch 2:  Cost: 0.146, Test Acc: 1.00000, Validation Acc: 0.66920\n",
      "Epoch 17, CIFAR-10 Batch 3:  Cost: 0.083, Test Acc: 1.00000, Validation Acc: 0.67240\n",
      "Epoch 17, CIFAR-10 Batch 4:  Cost: 0.093, Test Acc: 1.00000, Validation Acc: 0.67960\n",
      "Epoch 17, CIFAR-10 Batch 5:  Cost: 0.127, Test Acc: 0.97500, Validation Acc: 0.67940\n",
      "Epoch 18, CIFAR-10 Batch 1:  Cost: 0.149, Test Acc: 0.97500, Validation Acc: 0.66320\n",
      "Epoch 18, CIFAR-10 Batch 2:  Cost: 0.149, Test Acc: 1.00000, Validation Acc: 0.66920\n",
      "Epoch 18, CIFAR-10 Batch 3:  Cost: 0.082, Test Acc: 1.00000, Validation Acc: 0.66560\n",
      "Epoch 18, CIFAR-10 Batch 4:  Cost: 0.099, Test Acc: 1.00000, Validation Acc: 0.68120\n",
      "Epoch 18, CIFAR-10 Batch 5:  Cost: 0.121, Test Acc: 0.97500, Validation Acc: 0.66800\n",
      "Epoch 19, CIFAR-10 Batch 1:  Cost: 0.131, Test Acc: 0.97500, Validation Acc: 0.66520\n",
      "Epoch 19, CIFAR-10 Batch 2:  Cost: 0.112, Test Acc: 1.00000, Validation Acc: 0.67360\n",
      "Epoch 19, CIFAR-10 Batch 3:  Cost: 0.067, Test Acc: 1.00000, Validation Acc: 0.67380\n",
      "Epoch 19, CIFAR-10 Batch 4:  Cost: 0.083, Test Acc: 1.00000, Validation Acc: 0.68040\n",
      "Epoch 19, CIFAR-10 Batch 5:  Cost: 0.097, Test Acc: 1.00000, Validation Acc: 0.67400\n",
      "Epoch 20, CIFAR-10 Batch 1:  Cost: 0.100, Test Acc: 1.00000, Validation Acc: 0.67120\n",
      "Epoch 20, CIFAR-10 Batch 2:  Cost: 0.102, Test Acc: 1.00000, Validation Acc: 0.67940\n",
      "Epoch 20, CIFAR-10 Batch 3:  Cost: 0.056, Test Acc: 1.00000, Validation Acc: 0.68120\n",
      "Epoch 20, CIFAR-10 Batch 4:  Cost: 0.073, Test Acc: 1.00000, Validation Acc: 0.68400\n",
      "Epoch 20, CIFAR-10 Batch 5:  Cost: 0.100, Test Acc: 0.97500, Validation Acc: 0.67340\n",
      "Epoch 21, CIFAR-10 Batch 1:  Cost: 0.087, Test Acc: 1.00000, Validation Acc: 0.67640\n",
      "Epoch 21, CIFAR-10 Batch 2:  Cost: 0.084, Test Acc: 1.00000, Validation Acc: 0.68320\n",
      "Epoch 21, CIFAR-10 Batch 3:  Cost: 0.046, Test Acc: 1.00000, Validation Acc: 0.67620\n",
      "Epoch 21, CIFAR-10 Batch 4:  Cost: 0.078, Test Acc: 1.00000, Validation Acc: 0.68420\n",
      "Epoch 21, CIFAR-10 Batch 5:  Cost: 0.067, Test Acc: 1.00000, Validation Acc: 0.68180\n",
      "Epoch 22, CIFAR-10 Batch 1:  Cost: 0.078, Test Acc: 1.00000, Validation Acc: 0.68560\n",
      "Epoch 22, CIFAR-10 Batch 2:  Cost: 0.071, Test Acc: 1.00000, Validation Acc: 0.68300\n",
      "Epoch 22, CIFAR-10 Batch 3:  Cost: 0.065, Test Acc: 1.00000, Validation Acc: 0.65880\n",
      "Epoch 22, CIFAR-10 Batch 4:  Cost: 0.064, Test Acc: 1.00000, Validation Acc: 0.67720\n",
      "Epoch 22, CIFAR-10 Batch 5:  Cost: 0.081, Test Acc: 1.00000, Validation Acc: 0.67360\n",
      "Epoch 23, CIFAR-10 Batch 1:  Cost: 0.066, Test Acc: 1.00000, Validation Acc: 0.67860\n",
      "Epoch 23, CIFAR-10 Batch 2:  Cost: 0.066, Test Acc: 1.00000, Validation Acc: 0.68320\n",
      "Epoch 23, CIFAR-10 Batch 3:  Cost: 0.056, Test Acc: 1.00000, Validation Acc: 0.66120\n",
      "Epoch 23, CIFAR-10 Batch 4:  Cost: 0.067, Test Acc: 1.00000, Validation Acc: 0.67620\n",
      "Epoch 23, CIFAR-10 Batch 5:  Cost: 0.057, Test Acc: 1.00000, Validation Acc: 0.67420\n",
      "Epoch 24, CIFAR-10 Batch 1:  Cost: 0.051, Test Acc: 1.00000, Validation Acc: 0.68520\n",
      "Epoch 24, CIFAR-10 Batch 2:  Cost: 0.057, Test Acc: 1.00000, Validation Acc: 0.67880\n",
      "Epoch 24, CIFAR-10 Batch 3:  Cost: 0.046, Test Acc: 1.00000, Validation Acc: 0.66280\n",
      "Epoch 24, CIFAR-10 Batch 4:  Cost: 0.036, Test Acc: 1.00000, Validation Acc: 0.67600\n",
      "Epoch 24, CIFAR-10 Batch 5:  Cost: 0.061, Test Acc: 1.00000, Validation Acc: 0.68380\n",
      "Epoch 25, CIFAR-10 Batch 1:  Cost: 0.052, Test Acc: 1.00000, Validation Acc: 0.66840\n",
      "Epoch 25, CIFAR-10 Batch 2:  Cost: 0.050, Test Acc: 1.00000, Validation Acc: 0.66720\n",
      "Epoch 25, CIFAR-10 Batch 3:  Cost: 0.033, Test Acc: 1.00000, Validation Acc: 0.67580\n",
      "Epoch 25, CIFAR-10 Batch 4:  Cost: 0.034, Test Acc: 1.00000, Validation Acc: 0.67680\n",
      "Epoch 25, CIFAR-10 Batch 5:  Cost: 0.047, Test Acc: 1.00000, Validation Acc: 0.67980\n",
      "Epoch 26, CIFAR-10 Batch 1:  Cost: 0.045, Test Acc: 1.00000, Validation Acc: 0.67660\n",
      "Epoch 26, CIFAR-10 Batch 2:  Cost: 0.045, Test Acc: 1.00000, Validation Acc: 0.67180\n",
      "Epoch 26, CIFAR-10 Batch 3:  Cost: 0.032, Test Acc: 1.00000, Validation Acc: 0.67420\n",
      "Epoch 26, CIFAR-10 Batch 4:  Cost: 0.036, Test Acc: 1.00000, Validation Acc: 0.67340\n",
      "Epoch 26, CIFAR-10 Batch 5:  Cost: 0.044, Test Acc: 1.00000, Validation Acc: 0.67780\n",
      "Epoch 27, CIFAR-10 Batch 1:  Cost: 0.038, Test Acc: 1.00000, Validation Acc: 0.67220\n",
      "Epoch 27, CIFAR-10 Batch 2:  Cost: 0.033, Test Acc: 1.00000, Validation Acc: 0.67340\n",
      "Epoch 27, CIFAR-10 Batch 3:  Cost: 0.028, Test Acc: 1.00000, Validation Acc: 0.67460\n",
      "Epoch 27, CIFAR-10 Batch 4:  Cost: 0.027, Test Acc: 1.00000, Validation Acc: 0.67780\n",
      "Epoch 27, CIFAR-10 Batch 5:  Cost: 0.043, Test Acc: 1.00000, Validation Acc: 0.67940\n",
      "Epoch 28, CIFAR-10 Batch 1:  Cost: 0.044, Test Acc: 1.00000, Validation Acc: 0.66720\n",
      "Epoch 28, CIFAR-10 Batch 2:  Cost: 0.038, Test Acc: 1.00000, Validation Acc: 0.67540\n",
      "Epoch 28, CIFAR-10 Batch 3:  Cost: 0.024, Test Acc: 1.00000, Validation Acc: 0.68260\n",
      "Epoch 28, CIFAR-10 Batch 4:  Cost: 0.029, Test Acc: 1.00000, Validation Acc: 0.67820\n",
      "Epoch 28, CIFAR-10 Batch 5:  Cost: 0.040, Test Acc: 1.00000, Validation Acc: 0.67240\n",
      "Epoch 29, CIFAR-10 Batch 1:  Cost: 0.034, Test Acc: 1.00000, Validation Acc: 0.68000\n",
      "Epoch 29, CIFAR-10 Batch 2:  Cost: 0.033, Test Acc: 1.00000, Validation Acc: 0.67760\n",
      "Epoch 29, CIFAR-10 Batch 3:  Cost: 0.020, Test Acc: 1.00000, Validation Acc: 0.67600\n",
      "Epoch 29, CIFAR-10 Batch 4:  Cost: 0.027, Test Acc: 1.00000, Validation Acc: 0.66680\n",
      "Epoch 29, CIFAR-10 Batch 5:  Cost: 0.037, Test Acc: 1.00000, Validation Acc: 0.67680\n",
      "Epoch 30, CIFAR-10 Batch 1:  Cost: 0.031, Test Acc: 1.00000, Validation Acc: 0.67060\n",
      "Epoch 30, CIFAR-10 Batch 2:  Cost: 0.032, Test Acc: 1.00000, Validation Acc: 0.66700\n",
      "Epoch 30, CIFAR-10 Batch 3:  Cost: 0.014, Test Acc: 1.00000, Validation Acc: 0.68000\n",
      "Epoch 30, CIFAR-10 Batch 4:  Cost: 0.023, Test Acc: 1.00000, Validation Acc: 0.66880\n",
      "Epoch 30, CIFAR-10 Batch 5:  Cost: 0.033, Test Acc: 1.00000, Validation Acc: 0.66960\n",
      "Epoch 31, CIFAR-10 Batch 1:  Cost: 0.035, Test Acc: 1.00000, Validation Acc: 0.67120\n",
      "Epoch 31, CIFAR-10 Batch 2:  Cost: 0.029, Test Acc: 1.00000, Validation Acc: 0.67660\n",
      "Epoch 31, CIFAR-10 Batch 3:  Cost: 0.017, Test Acc: 1.00000, Validation Acc: 0.67700\n",
      "Epoch 31, CIFAR-10 Batch 4:  Cost: 0.022, Test Acc: 1.00000, Validation Acc: 0.66860\n",
      "Epoch 31, CIFAR-10 Batch 5:  Cost: 0.021, Test Acc: 1.00000, Validation Acc: 0.68260\n",
      "Epoch 32, CIFAR-10 Batch 1:  Cost: 0.024, Test Acc: 1.00000, Validation Acc: 0.68400\n",
      "Epoch 32, CIFAR-10 Batch 2:  Cost: 0.029, Test Acc: 1.00000, Validation Acc: 0.67020\n",
      "Epoch 32, CIFAR-10 Batch 3:  Cost: 0.016, Test Acc: 1.00000, Validation Acc: 0.68680\n",
      "Epoch 32, CIFAR-10 Batch 4:  Cost: 0.027, Test Acc: 1.00000, Validation Acc: 0.65780\n",
      "Epoch 32, CIFAR-10 Batch 5:  Cost: 0.016, Test Acc: 1.00000, Validation Acc: 0.68400\n"
     ]
    }
   ],
   "source": [
    "\"\"\"\n",
    "DON'T MODIFY ANYTHING IN THIS CELL\n",
    "\"\"\"\n",
    "save_model_path = './image_classification'\n",
    "\n",
    "print('Training...')\n",
    "with tf.Session() as sess:\n",
    "    # Initializing the variables\n",
    "    sess.run(tf.global_variables_initializer())\n",
    "    \n",
    "    # Training cycle\n",
    "    for epoch in range(epochs):\n",
    "        # Loop over all batches\n",
    "        n_batches = 5\n",
    "        for batch_i in range(1, n_batches + 1):\n",
    "            for batch_features, batch_labels in helper.load_preprocess_training_batch(batch_i, batch_size):\n",
    "                train_neural_network(sess, optimizer, keep_probability, batch_features, batch_labels)\n",
    "            print('Epoch {:>2}, CIFAR-10 Batch {}:  '.format(epoch + 1, batch_i), end='')\n",
    "            print_stats(sess, batch_features, batch_labels, cost, accuracy)\n",
    "            \n",
    "    # Save Model\n",
    "    saver = tf.train.Saver()\n",
    "    save_path = saver.save(sess, save_model_path)"
   ]
  },
  {
   "cell_type": "markdown",
   "metadata": {
    "deletable": true,
    "editable": true
   },
   "source": [
    "# Checkpoint\n",
    "The model has been saved to disk.\n",
    "## Test Model\n",
    "Test your model against the test dataset.  This will be your final accuracy. You should have an accuracy greater than 50%. If you don't, keep tweaking the model architecture and parameters."
   ]
  },
  {
   "cell_type": "code",
   "execution_count": 95,
   "metadata": {
    "collapsed": false,
    "deletable": true,
    "editable": true
   },
   "outputs": [
    {
     "name": "stdout",
     "output_type": "stream",
     "text": [
      "Testing Accuracy: 0.68193359375\n",
      "\n"
     ]
    },
    {
     "data": {
      "image/png": "[encoded data removed]",
      "text/plain": [
       "<matplotlib.figure.Figure at 0x7f70d9032da0>"
      ]
     },
     "metadata": {
      "image/png": {
       "height": 319,
       "width": 355
      }
     },
     "output_type": "display_data"
    }
   ],
   "source": [
    "\"\"\"\n",
    "DON'T MODIFY ANYTHING IN THIS CELL\n",
    "\"\"\"\n",
    "%matplotlib inline\n",
    "%config InlineBackend.figure_format = 'retina'\n",
    "\n",
    "import tensorflow as tf\n",
    "import pickle\n",
    "import helper\n",
    "import random\n",
    "\n",
    "# Set batch size if not already set\n",
    "try:\n",
    "    if batch_size:\n",
    "        pass\n",
    "except NameError:\n",
    "    batch_size = 64\n",
    "\n",
    "save_model_path = './image_classification'\n",
    "n_samples = 4\n",
    "top_n_predictions = 3\n",
    "\n",
    "def test_model():\n",
    "    \"\"\"\n",
    "    Test the saved model against the test dataset\n",
    "    \"\"\"\n",
    "\n",
    "    test_features, test_labels = pickle.load(open('preprocess_training.p', mode='rb'))\n",
    "    loaded_graph = tf.Graph()\n",
    "\n",
    "    with tf.Session(graph=loaded_graph) as sess:\n",
    "        # Load model\n",
    "        loader = tf.train.import_meta_graph(save_model_path + '.meta')\n",
    "        loader.restore(sess, save_model_path)\n",
    "\n",
    "        # Get Tensors from loaded model\n",
    "        loaded_x = loaded_graph.get_tensor_by_name('x:0')\n",
    "        loaded_y = loaded_graph.get_tensor_by_name('y:0')\n",
    "        loaded_keep_prob = loaded_graph.get_tensor_by_name('keep_prob:0')\n",
    "        loaded_logits = loaded_graph.get_tensor_by_name('logits:0')\n",
    "        loaded_acc = loaded_graph.get_tensor_by_name('accuracy:0')\n",
    "        \n",
    "        # Get accuracy in batches for memory limitations\n",
    "        test_batch_acc_total = 0\n",
    "        test_batch_count = 0\n",
    "        \n",
    "        for train_feature_batch, train_label_batch in helper.batch_features_labels(test_features, test_labels, batch_size):\n",
    "            test_batch_acc_total += sess.run(\n",
    "                loaded_acc,\n",
    "                feed_dict={loaded_x: train_feature_batch, loaded_y: train_label_batch, loaded_keep_prob: 1.0})\n",
    "            test_batch_count += 1\n",
    "\n",
    "        print('Testing Accuracy: {}\\n'.format(test_batch_acc_total/test_batch_count))\n",
    "\n",
    "        # Print Random Samples\n",
    "        random_test_features, random_test_labels = tuple(zip(*random.sample(list(zip(test_features, test_labels)), n_samples)))\n",
    "        random_test_predictions = sess.run(\n",
    "            tf.nn.top_k(tf.nn.softmax(loaded_logits), top_n_predictions),\n",
    "            feed_dict={loaded_x: random_test_features, loaded_y: random_test_labels, loaded_keep_prob: 1.0})\n",
    "        helper.display_image_predictions(random_test_features, random_test_labels, random_test_predictions)\n",
    "\n",
    "\n",
    "test_model()"
   ]
  },
  {
   "cell_type": "markdown",
   "metadata": {
    "deletable": true,
    "editable": true
   },
   "source": [
    "## Why 50-80% Accuracy?\n",
    "You might be wondering why you can't get an accuracy any higher. First things first, 50% isn't bad for a simple CNN.  Pure guessing would get you 10% accuracy. However, you might notice people are getting scores [well above 80%](http://rodrigob.github.io/are_we_there_yet/build/classification_datasets_results.html#43494641522d3130).  That's because we haven't taught you all there is to know about neural networks. We still need to cover a few more techniques.\n",
    "## Submitting This Project\n",
    "When submitting this project, make sure to run all the cells before saving the notebook.  Save the notebook file as \"dlnd_image_classification.ipynb\" and save it as a HTML file under \"File\" -> \"Download as\".  Include the \"helper.py\" and \"problem_unittests.py\" files in your submission."
   ]
  }
 ],
 "metadata": {
  "kernelspec": {
   "display_name": "Python 3",
   "language": "python",
   "name": "python3"
  },
  "language_info": {
   "codemirror_mode": {
    "name": "ipython",
    "version": 3
   },
   "file_extension": ".py",
   "mimetype": "text/x-python",
   "name": "python",
   "nbconvert_exporter": "python",
   "pygments_lexer": "ipython3",
   "version": "3.5.2"
  },
  "widgets": {
   "state": {},
   "version": "1.1.2"
  }
 },
 "nbformat": 4,
 "nbformat_minor": 0
}
